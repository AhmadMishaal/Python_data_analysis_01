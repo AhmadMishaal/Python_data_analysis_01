{
 "cells": [
  {
   "cell_type": "markdown",
   "id": "4d2f1e88-4a1c-4c7c-9e1e-f3d72b1fcb6c",
   "metadata": {},
   "source": [
    "<summary><h1>Social Buzz Contents Data Analysis</h1></summary>"
   ]
  },
  {
   "attachments": {},
   "cell_type": "markdown",
   "id": "70bcddda-633b-49df-85cb-3c6c4e503772",
   "metadata": {},
   "source": [
    "## Introduction\n",
    "Social Buzz is a social media platform with more than 500 million active users reached there platform each month. Because of there rapid growth more than they have anticipated they need the help of an advisory firm to oversee there scaling process effectively.\n",
    "\n",
    "There technical team create and collected a huge amount of unstructured data that they need to analyze.\r\n",
    "### Note: Social Buzz as an unreal company\n"
   ]
  },
  {
   "cell_type": "markdown",
   "id": "36e1877e-91cd-4053-b901-547ef61dfc29",
   "metadata": {},
   "source": [
    "## Data Analysis"
   ]
  },
  {
   "cell_type": "markdown",
   "id": "9a289493-d1e9-4e1f-9ea2-2421aee1177c",
   "metadata": {},
   "source": [
    "### Import the needed libraries and raw data"
   ]
  },
  {
   "cell_type": "code",
   "execution_count": 1,
   "id": "c9c45b45-a50f-4296-b06e-999e12fd29ec",
   "metadata": {},
   "outputs": [],
   "source": [
    "import pandas as pd\n",
    "import matplotlib.pyplot as plt"
   ]
  },
  {
   "cell_type": "code",
   "execution_count": 2,
   "id": "821b3c41-02c6-4335-89fa-72fbe93b346c",
   "metadata": {},
   "outputs": [],
   "source": [
    "content_df = pd.read_csv('raw_data/content.csv')\n",
    "react_types_df = pd.read_csv('raw_data/reaction_types.csv')\n",
    "reactions_df = pd.read_csv('raw_data/reactions.csv')"
   ]
  },
  {
   "cell_type": "markdown",
   "id": "a7b0a2df-e31a-40eb-9342-38426773a1e0",
   "metadata": {},
   "source": [
    "### Prepare and clean the content file data"
   ]
  },
  {
   "cell_type": "code",
   "execution_count": 3,
   "id": "b2dadf5c-05be-43db-82a0-033a47b4c8a6",
   "metadata": {},
   "outputs": [
    {
     "name": "stdout",
     "output_type": "stream",
     "text": [
      "   Unnamed: 0                            Content ID  \\\n",
      "0           0  97522e57-d9ab-4bd6-97bf-c24d952602d2   \n",
      "1           1  9f737e0a-3cdd-4d29-9d24-753f4e3be810   \n",
      "2           2  230c4e4d-70c3-461d-b42c-ec09396efb3f   \n",
      "3           3  356fff80-da4d-4785-9f43-bc1261031dc6   \n",
      "4           4  01ab84dd-6364-4236-abbb-3f237db77180   \n",
      "\n",
      "                                User ID   Type        Category  \\\n",
      "0  8d3cd87d-8a31-4935-9a4f-b319bfe05f31  photo        Studying   \n",
      "1  beb1f34e-7870-46d6-9fc7-2e12eb83ce43  photo  healthy eating   \n",
      "2  a5c65404-5894-4b87-82f2-d787cbee86b4  photo  healthy eating   \n",
      "3  9fb4ce88-fac1-406c-8544-1a899cee7aaf  photo      technology   \n",
      "4  e206e31b-5f85-4964-b6ea-d7ee5324def1  video            food   \n",
      "\n",
      "                                                 URL  \n",
      "0  https://socialbuzz.cdn.com/content/storage/975...  \n",
      "1  https://socialbuzz.cdn.com/content/storage/9f7...  \n",
      "2  https://socialbuzz.cdn.com/content/storage/230...  \n",
      "3  https://socialbuzz.cdn.com/content/storage/356...  \n",
      "4  https://socialbuzz.cdn.com/content/storage/01a...  \n"
     ]
    }
   ],
   "source": [
    "print(content_df.head())"
   ]
  },
  {
   "cell_type": "code",
   "execution_count": 4,
   "id": "a46caa10-05f1-4148-8540-f24a625e7fda",
   "metadata": {},
   "outputs": [
    {
     "name": "stdout",
     "output_type": "stream",
     "text": [
      "<class 'pandas.core.frame.DataFrame'>\n",
      "RangeIndex: 1000 entries, 0 to 999\n",
      "Data columns (total 6 columns):\n",
      " #   Column      Non-Null Count  Dtype \n",
      "---  ------      --------------  ----- \n",
      " 0   Unnamed: 0  1000 non-null   int64 \n",
      " 1   Content ID  1000 non-null   object\n",
      " 2   User ID     1000 non-null   object\n",
      " 3   Type        1000 non-null   object\n",
      " 4   Category    1000 non-null   object\n",
      " 5   URL         801 non-null    object\n",
      "dtypes: int64(1), object(5)\n",
      "memory usage: 47.0+ KB\n",
      "None\n"
     ]
    }
   ],
   "source": [
    "print(content_df.info())"
   ]
  },
  {
   "cell_type": "code",
   "execution_count": 5,
   "id": "6c6fcb41-a61a-452a-b882-f0e02e9f308f",
   "metadata": {},
   "outputs": [
    {
     "name": "stdout",
     "output_type": "stream",
     "text": [
      "['Studying' 'healthy eating' 'technology' 'food' 'cooking' 'dogs' 'soccer'\n",
      " 'public speaking' 'science' 'tennis' 'travel' 'fitness' 'education'\n",
      " 'studying' 'veganism' 'Animals' 'animals' 'culture' '\"culture\"' 'Fitness'\n",
      " '\"studying\"' 'Veganism' '\"animals\"' 'Travel' '\"soccer\"' 'Education'\n",
      " '\"dogs\"' 'Technology' 'Soccer' '\"tennis\"' 'Culture' '\"food\"' 'Food'\n",
      " '\"technology\"' 'Healthy Eating' '\"cooking\"' 'Science' '\"public speaking\"'\n",
      " '\"veganism\"' 'Public Speaking' '\"science\"']\n"
     ]
    }
   ],
   "source": [
    "print(content_df['Category'].unique())"
   ]
  },
  {
   "cell_type": "code",
   "execution_count": 6,
   "id": "febbb20f-cf1e-40dc-aa18-c8c54c24208e",
   "metadata": {},
   "outputs": [],
   "source": [
    "content_df['Category'] = [item.strip('\"') for item in content_df['Category']]"
   ]
  },
  {
   "cell_type": "code",
   "execution_count": 7,
   "id": "bd4b67d3-864e-47bf-b4db-fdcc0f4fe1c7",
   "metadata": {},
   "outputs": [],
   "source": [
    "content_df['Category'] = content_df['Category'].str.lower()"
   ]
  },
  {
   "cell_type": "code",
   "execution_count": 8,
   "id": "73abf9f1-03f7-434d-a19b-fae7e2c6f521",
   "metadata": {},
   "outputs": [
    {
     "name": "stdout",
     "output_type": "stream",
     "text": [
      "['studying' 'healthy eating' 'technology' 'food' 'cooking' 'dogs' 'soccer'\n",
      " 'public speaking' 'science' 'tennis' 'travel' 'fitness' 'education'\n",
      " 'veganism' 'animals' 'culture']\n"
     ]
    }
   ],
   "source": [
    "print(content_df['Category'].unique())"
   ]
  },
  {
   "cell_type": "code",
   "execution_count": 9,
   "id": "61cb7666-f4a1-4fca-8b34-c231d0988a2f",
   "metadata": {},
   "outputs": [
    {
     "name": "stdout",
     "output_type": "stream",
     "text": [
      "['photo' 'video' 'GIF' 'audio']\n"
     ]
    }
   ],
   "source": [
    "print(content_df['Type'].unique())"
   ]
  },
  {
   "cell_type": "code",
   "execution_count": 10,
   "id": "41019ec8-3e7e-486b-90f5-e97125fc20dd",
   "metadata": {},
   "outputs": [],
   "source": [
    "content_df_new = content_df[['Content ID','Type','Category']]"
   ]
  },
  {
   "cell_type": "code",
   "execution_count": 11,
   "id": "945f2148-2d9e-4f93-b5a5-04ee5983ee96",
   "metadata": {},
   "outputs": [
    {
     "name": "stderr",
     "output_type": "stream",
     "text": [
      "C:\\Users\\GW\\AppData\\Local\\Temp\\ipykernel_8048\\2703890443.py:1: SettingWithCopyWarning: \n",
      "A value is trying to be set on a copy of a slice from a DataFrame\n",
      "\n",
      "See the caveats in the documentation: https://pandas.pydata.org/pandas-docs/stable/user_guide/indexing.html#returning-a-view-versus-a-copy\n",
      "  content_df_new.rename(columns = {'Type':'Content Type'}, inplace = True)\n"
     ]
    }
   ],
   "source": [
    "content_df_new.rename(columns = {'Type':'Content Type'}, inplace = True)"
   ]
  },
  {
   "cell_type": "code",
   "execution_count": 12,
   "id": "3ae5be1d-36f7-45f8-a99d-2ba5400b2e85",
   "metadata": {},
   "outputs": [
    {
     "name": "stdout",
     "output_type": "stream",
     "text": [
      "                               Content ID Content Type         Category\n",
      "0    97522e57-d9ab-4bd6-97bf-c24d952602d2        photo         studying\n",
      "1    9f737e0a-3cdd-4d29-9d24-753f4e3be810        photo   healthy eating\n",
      "2    230c4e4d-70c3-461d-b42c-ec09396efb3f        photo   healthy eating\n",
      "3    356fff80-da4d-4785-9f43-bc1261031dc6        photo       technology\n",
      "4    01ab84dd-6364-4236-abbb-3f237db77180        video             food\n",
      "5    cf1e8c1a-23eb-4426-9f58-002fb1b53e91          GIF          cooking\n",
      "6    3f8590c7-6ab2-4973-805a-90cdec355f05        video             dogs\n",
      "7    e5490118-90d5-4572-ab1c-1fbc87b8d9ca        video       technology\n",
      "8    0bedca96-fb76-4287-a83c-17330ed39cce        photo           soccer\n",
      "9    b18cb63f-4c8e-44ee-a47f-541e95191d11        photo  public speaking\n",
      "10   5118e9c5-1377-4cc5-a486-65b35b7b7b76          GIF          science\n",
      "11   46fb701d-6c26-458e-ada3-2ebe5dbba01f        audio  public speaking\n",
      "12   0be59876-d70c-486c-8e0b-a06bef7a2cd6          GIF           tennis\n",
      "13   81abd65a-3b76-4574-a0a7-db6bf7184ae2        video             food\n",
      "14   e6ee2244-9382-49a9-8cbf-fa54aaaa2392        audio           travel\n",
      "15   7ffd0a82-4a0a-4527-a4d6-e251b756bac7          GIF          fitness\n",
      "16   f332d362-dc48-46c2-a64b-641157c0987e          GIF           soccer\n",
      "17   a2e93b29-9259-4092-a4d7-62d5e823bb74        video  public speaking\n",
      "18   9b3a6d30-48e8-476c-82be-9031524bd04d        video             food\n",
      "19   850fe90d-47d6-4eb7-b9c8-810afcb99ce9        video           tennis\n",
      "20   baa2db00-81ba-4c34-b17d-dd950bfa133b          GIF           soccer\n",
      "21   f98dde71-ce1d-4f6c-bb05-ae05779d2207          GIF           soccer\n",
      "22   388bd9db-9d10-4f47-87c4-6db46e83bc95        video        education\n",
      "23   78d0075f-895c-4a15-a35c-a921e2bb2cea        photo         studying\n",
      "24   bda0b065-7f8b-4d52-b7e9-fcc375cdab08        photo           travel\n",
      "25   a4067fb5-3ba8-4f97-87c2-ddad5e4029c2          GIF             food\n",
      "26   809b41e3-7a6f-4d80-84bf-f8d7b0e2d0e1        audio             dogs\n",
      "27   34a3747a-0b77-42f6-ae19-87c38b94b674          GIF          science\n",
      "28   2920dccb-e06f-49fc-8049-b6d4164dfe84          GIF         veganism\n",
      "29   f4e3840e-bb71-40c2-afc5-9408d842646d        photo   healthy eating\n",
      "30   a2ff9bf2-1fa6-4001-9566-f597f8e754ef        video             food\n",
      "31   74718bbf-e5a3-442f-8ca2-4a3428757fc1        video             dogs\n",
      "32   89fd8f89-807f-4076-b7e7-84db361e11c1        audio         studying\n",
      "33   02fa1c4f-722d-46d2-a85e-e5b136b5f3bc        video          cooking\n",
      "34   eec5e521-4c28-4e8a-93a9-d544803fad7e        audio             food\n",
      "35   07f88a73-aef2-45fd-8b5d-418e448b853d          GIF          animals\n",
      "36   49367a0f-1fd5-4417-a7c9-4a154e1ae0ad        photo       technology\n",
      "37   457301ee-3e87-40d8-8b82-ea4e1fa90e39          GIF   healthy eating\n",
      "38   4fa14453-7b29-4302-b51f-9aa23b472c1b        audio          animals\n",
      "39   16757b80-2803-4464-b5d7-e372d8d77337          GIF       technology\n",
      "40   ab4c4756-1c50-4136-bad9-3216e01ffac2        audio          fitness\n",
      "41   4478d98e-43e8-4dc0-884d-c1115aa8b970        audio          animals\n",
      "42   34f73132-fff6-4f01-a5ec-4b4b66461fc7        photo          fitness\n",
      "43   bfa4e11c-9d72-49b9-bd43-49d95c2e5181        photo         veganism\n",
      "44   220d9dc1-f8a5-422d-b200-3819f3b89b2b        video             dogs\n",
      "45   ea1afba2-c0a8-4d0f-ac64-91fd7a126bbc          GIF   healthy eating\n",
      "46   18b4da8a-5f22-4dbe-b2af-c9013581cdd9          GIF         studying\n",
      "47   259cd56f-b017-4a41-81a7-f26ce9b35092        video          culture\n",
      "48   14ed7f7b-2c96-4458-8a39-606c25c14180        video           tennis\n",
      "49   c01fa154-5348-4040-9d20-0bbf01f6349b          GIF           tennis\n",
      "50   2d949603-6676-4402-900b-2c2c78315ea0        audio          culture\n",
      "51   50c9237a-541c-4f10-a2be-7cbe076b2012          GIF           travel\n",
      "52   5ecd7f9d-4184-4836-b1c5-f03e131ba0a7        video          science\n",
      "53   e442899c-d2d6-4392-be2d-a0b916ae47fb        video       technology\n",
      "54   daab7b1a-fc8d-473e-bbf3-b29f4185ae56        video          science\n",
      "55   82145a60-013e-4d96-81a5-399af8618158        audio             food\n",
      "56   d852b946-01e1-44fe-abd7-26198660cbdb          GIF             food\n",
      "57   9dd95c34-8b39-4776-a232-412512329c3f        audio          fitness\n",
      "58   c59e27e9-0439-4699-8ea0-5e93f662a05d          GIF          fitness\n",
      "59   78713905-362f-4a87-9671-adab5f1e0e67        audio             dogs\n",
      "60   87349e5b-eda4-4ae6-94d7-c42b9c5f03e9          GIF   healthy eating\n",
      "61   5fbbdd47-e1ca-4cd4-bb24-dd0eb03f99b0        video          culture\n",
      "62   ac1c59df-2803-4cf4-8ec0-fe6bd1f9ea44          GIF           soccer\n",
      "63   026973ef-4b73-4901-9160-bc9e04516057        audio          culture\n",
      "64   f08bdab2-b888-484e-8fd9-919e6ed86c12        audio        education\n",
      "65   a55b215b-06c5-4ef3-ac14-7e1569c3ad2e          GIF        education\n",
      "66   258bb775-3c35-4eec-90f3-8b75a52e466a        photo        education\n",
      "67   8d32243c-2dd1-4128-bde1-d643207e582c        photo         studying\n",
      "68   e2c433d2-096e-484e-8c69-28f0bb69f3b7        audio          science\n",
      "69   3d8fffab-6107-4d7b-9485-c610e233c91c        photo         studying\n",
      "70   409aa11d-5af3-4a70-9da1-482857f5835e          GIF          fitness\n",
      "71   aa9ea032-0fea-42c3-88d9-666685d4b32b          GIF         veganism\n",
      "72   eaddee3e-3a23-47cd-9785-ab7f2120a293        video          science\n",
      "73   9ef39aa2-60f9-4e4b-b666-c6cb97015503          GIF           travel\n",
      "74   841403fd-321b-4118-90b3-cc0075d64047          GIF         studying\n",
      "75   3724de8a-ec2f-4021-a3f1-605d551da9d0        video          culture\n",
      "76   2d0926be-9a29-4e6c-b342-815c70172214          GIF          animals\n",
      "77   dcaa5091-1246-4d3c-aed8-dcd8e1da69cc        photo          science\n",
      "78   0491183b-be25-4108-b667-8c30d3cdbf50        audio         veganism\n",
      "79   359b93ea-446f-4202-8801-db238de5de4d        photo             food\n",
      "80   0adb9a94-210a-4e84-bca1-13db9452ff0e        video   healthy eating\n",
      "81   3c510b35-43e2-4e84-a805-86c5ebddc4cf        audio         studying\n",
      "82   86346263-02db-4020-a216-9e54f502f643          GIF           travel\n",
      "83   3dfdcf9c-aaa4-41ea-9a7c-b3ba09103467          GIF          fitness\n",
      "84   3529c44b-d0f4-4bd2-b6eb-be97d2f7623f        photo         studying\n",
      "85   45dbce0a-dbd8-4c4d-a492-4f5b84850d5c        video             dogs\n",
      "86   c4f59a1e-3198-4968-b062-9e9fcc41403f          GIF         veganism\n",
      "87   9d94f180-947c-40f5-aa05-f1958759b7fc        video          science\n",
      "88   6ef45d36-cd14-428c-b5cf-ad2f06371c6e          GIF          cooking\n",
      "89   497da46d-d5d5-45b0-827a-f2b75d7bf4c2        photo          culture\n",
      "90   da527dd0-4b7d-40a2-9fc6-89ef7c91fd87          GIF          culture\n",
      "91   fada6910-2cc5-4600-808c-1e6066f795a6          GIF       technology\n",
      "92   be85274a-28f1-4c6d-9ea1-7b20d1e0c66f        photo          culture\n",
      "93   b1ba68bc-fa4c-4a36-98a1-4d4a381ef873        video          animals\n",
      "94   1de2f0f9-61ab-43fb-9180-6870824c63c0          GIF          science\n",
      "95   e18e10e9-ed2a-494b-b215-edce890b1df4        photo             food\n",
      "96   c2d6e707-f00e-4fa4-a193-eb36272f58df          GIF         veganism\n",
      "97   af7971aa-5fd5-41d3-b6c3-583704a705a2        video   healthy eating\n",
      "98   6d6cf6a3-4187-44ec-af28-91c99b584bcf        video         veganism\n",
      "99   5d8dbd6f-cc78-4f7a-a65c-cd9dde481dd0        video   healthy eating\n",
      "100  c8b044a9-8427-4b41-bc61-7b549ab1626c        photo         studying\n",
      "101  cd568dd1-70cf-45d6-b495-10eebff8c920        photo             dogs\n",
      "102  72822fb8-8a40-4cf1-a86a-42140b3bf9f3        photo           travel\n",
      "103  ef99fd68-74fb-4c72-bc70-742ebca14499        video           soccer\n",
      "104  d147ab3c-4097-4eec-b4dc-480e4ece801b        audio          culture\n",
      "105  62681a6c-fe82-4186-ba7d-0805ae5b95ed        audio         veganism\n",
      "106  ec8e2d25-5730-4753-a0a2-d1ed41e23623        video   healthy eating\n",
      "107  67f2a150-6086-4cbd-8d21-46250ccef5a2          GIF          cooking\n",
      "108  65545cfb-59bb-4dc1-a38b-82f268210da2        audio       technology\n",
      "109  433607b3-eeb4-48b8-9263-9805c1b89d55        video        education\n",
      "110  0f1fce4d-78a3-4e0e-8a7b-ebd5f97c305e        photo             dogs\n",
      "111  1000371f-7758-4c44-a1bc-41fd836b0bcb        audio         studying\n",
      "112  5a5bf39d-1bfd-43f9-b304-ea8fbaaa3528        video         studying\n",
      "113  8e3896e3-2f84-4b47-9365-fb562c9ed730        video  public speaking\n",
      "114  de9796a6-d19d-4c41-a965-7aa4dcc69fee        audio       technology\n",
      "115  e4466189-0b96-4cc4-9d7d-d0f27b982548          GIF        education\n",
      "116  391a9aa4-c04a-431e-8366-712d92267c2b        video  public speaking\n",
      "117  e8edf506-36c9-43a7-a685-8b9f6467e4f9        video         studying\n",
      "118  36d36f19-7a10-4d7d-a3ab-a3f2cbbfcf4a        photo             food\n",
      "119  c7066a17-2e12-49d2-bb9e-c8967051f490          GIF  public speaking\n",
      "120  f01ec49c-3179-43bb-b127-2b1a73f34b06        photo          animals\n",
      "121  c6cbd704-9d4a-4ace-b61e-e5df74ee83af        photo        education\n",
      "122  eb6fc324-f85b-4bfb-b712-0a3eceb0b9d7          GIF           soccer\n",
      "123  b6c24086-becf-4615-801e-c3c298a8d4e2        photo           travel\n",
      "124  1beeffff-f261-435f-a109-6fafe46669d4        photo  public speaking\n",
      "125  61e6650c-5068-4575-9aee-4217ef3dbdb1          GIF           tennis\n",
      "126  3a7f83a0-b9f9-44c1-a15d-656c4095e732          GIF           soccer\n",
      "127  2b6921de-e7f2-4e30-8feb-36bd41becaf0        audio           travel\n",
      "128  6efd3911-1705-49dc-aa7b-994ce83a7387        photo          fitness\n",
      "129  b56a9e24-d0f2-4599-b893-c2889a15e1d6        video         veganism\n",
      "130  d706b190-216c-4103-9107-fb7304766d68        video          cooking\n",
      "131  61b45c79-c23b-4bbd-a4fe-0bb3611486c7        audio           tennis\n",
      "132  2c511a63-5eb5-422f-8483-c9fcf9a29b55          GIF       technology\n",
      "133  edc4a60a-b5ba-4178-b99e-9d34ed92599c        audio       technology\n",
      "134  2cbbdbf6-b34e-4fbb-bdc6-904e61f91ce7        photo          animals\n",
      "135  e51b00b8-49d4-4909-9f25-8e9a06e28728        video           soccer\n",
      "136  509a5fb0-9bb2-4809-9f90-18ae007acc94        video             dogs\n",
      "137  f1038e6c-5292-4e20-a866-675e1637d6b5          GIF           soccer\n",
      "138  08cc29f3-a22d-4652-8f27-ff9e0a826289        photo       technology\n",
      "139  a784c1dd-e2ab-408d-a0c3-226a51d420e1        audio       technology\n",
      "140  3a106d1f-3942-49d4-9358-417f33d760c6        photo          fitness\n",
      "141  1830df30-c239-4287-8d63-fadcb8ced884        video         veganism\n",
      "142  5bb364a6-8646-4cdb-b1cf-09f4125718d8        audio           soccer\n",
      "143  dd2f8912-9b97-40cb-ac5f-215f98d4d733          GIF          fitness\n",
      "144  de95cdb1-a85a-40de-8467-892e2d1481af        video        education\n",
      "145  e5f1a4c6-2b27-4c8b-ac9a-21bb6ef7c946        audio           soccer\n",
      "146  6199f5ca-cc02-410d-a408-e034946de162        video          animals\n",
      "147  9fd8c6fc-1c8f-4a1d-86ec-cd1c71e044e1        video  public speaking\n",
      "148  8490c29c-177f-4c21-9d37-d509f9287f30          GIF           tennis\n",
      "149  bf8e2e7a-7a90-47f8-8dd6-01f8c6aa32ed        video          science\n",
      "150  5651450a-d330-46e6-bac9-c7c7e7defaf2        photo          animals\n",
      "151  7c2e209e-acea-4246-a32d-636e2f2cc2c1        video             dogs\n",
      "152  a72552ac-cad2-4707-8bc6-dea84a5ab72b        audio         studying\n",
      "153  1bbdebad-2218-46fd-8afc-ddd9b4d56d97        photo         veganism\n",
      "154  2eb7feec-26a4-4949-8470-3e66c16536e9        video           tennis\n",
      "155  0d3d0a35-f806-4536-8733-abf1f92763e2          GIF         studying\n",
      "156  f783f128-6f66-4ef3-a190-5afc29d17012          GIF           tennis\n",
      "157  7bb8c7ec-8d65-43e8-a9fb-ac01936b18cc        video          cooking\n",
      "158  6e418568-a2b9-4d08-b241-06362c96a7f1        video             food\n",
      "159  93c0f4f6-8c1e-453e-8df0-3015b1e76376        video       technology\n",
      "160  2893a837-3157-4bbd-918f-adc93b60480a        photo   healthy eating\n",
      "161  34123572-64b7-4f3d-b098-a2651d882fb2        video             dogs\n",
      "162  811834bf-44bf-47f3-ae30-e305591177d6          GIF          animals\n",
      "163  c6f6e0f3-9fae-4bf9-abb3-cd7248a51061        audio          culture\n",
      "164  8f3cce80-d539-4f83-84f6-901e524c088e        video           travel\n",
      "165  27fffa3e-000d-4f29-9358-5b0d2280d18c        video             dogs\n",
      "166  3c092e34-bac9-4e63-a7fa-0608fb73914f        video           soccer\n",
      "167  413101f7-ea05-4df6-97cf-9891245c5ed7        photo          science\n",
      "168  6be333ca-7797-41a5-9a2d-e198037d30ed        audio             food\n",
      "169  c136ae25-d882-4e2c-b515-5727ad2626a5        photo           soccer\n",
      "170  bd810ca4-54cf-420e-afec-0214b870672e        photo       technology\n",
      "171  ba9ce407-672c-4ceb-9c1f-59590fd187d0        audio          fitness\n",
      "172  fa781e01-b928-401f-86f4-d42b0a3b55ab        photo         studying\n",
      "173  43e53b12-71cb-4aad-9cb7-8c3572053230        audio          fitness\n",
      "174  a58c963f-1bec-4eee-b66f-60062a9dd96e        video             dogs\n",
      "175  2c0e1f1e-1af8-45b6-b8f2-9714358dd2ad        audio           travel\n",
      "176  748ab616-8066-4c61-b6af-d7442545d12a        audio         veganism\n",
      "177  e0fe9c2b-0e5f-46b3-bb4a-f68bf569e867        video          science\n",
      "178  734c0b94-6729-44ef-af97-90a3a51a466c        video           travel\n",
      "179  43da458b-66fe-4723-996c-57dcfad67edf          GIF             food\n",
      "180  3d02ae44-c8f2-4d2d-a64c-9355a4f46430          GIF          fitness\n",
      "181  7dc268e5-b50d-4280-82aa-e08af75a8a0a        photo          science\n",
      "182  d0e55134-c60e-4a05-999c-d7697b4901f0          GIF          cooking\n",
      "183  ebdf5d36-9ecc-44d7-b641-d33805709452        audio          cooking\n",
      "184  1429467d-e8a2-4292-bd46-921e8bd87b30        video  public speaking\n",
      "185  f0d1b3ed-f1dd-4a09-b17a-b0f241932fbb        audio         studying\n",
      "186  7d459555-a816-4d20-893c-a002e0a74ce3        audio   healthy eating\n",
      "187  e6b61eab-6879-4618-b189-476f27f02fdd        audio          science\n",
      "188  d16d21cd-30c7-4b1e-b50c-aff5808fe816        photo          fitness\n",
      "189  27ec2b21-a749-4181-b182-150a174fc277          GIF          animals\n",
      "190  8bcb980c-6f36-484d-974f-30b3e8fcc251        photo           travel\n",
      "191  bac28166-5b8d-4f5d-88da-8c8f9a1c3f5b        video             food\n",
      "192  1f466010-5c87-4b81-be83-5856481231fb          GIF           soccer\n",
      "193  496645a7-64f7-4c56-94f5-a71671cb262e          GIF             dogs\n",
      "194  d6d4ec49-4210-44de-9f90-c93dfbeed084        video           tennis\n",
      "195  229d5bad-c1e4-439c-8978-0efdcdfea4d1        audio             food\n",
      "196  80d4bec9-6441-41a2-be74-0eec3e5317ef        video           tennis\n",
      "197  457d54ed-e0bf-4574-80e3-561c1bbc4d3e          GIF          science\n",
      "198  57a8bb62-a264-42d4-a1b0-6e4c0f859a5e        audio          cooking\n",
      "199  ff883828-a610-492d-8635-8a777eaad25f        photo        education\n",
      "200  48a824bf-e495-4333-8acf-c800947ec2cd        audio           soccer\n",
      "201  2019333d-2b9c-4a22-904c-d1f1aa9c68bb          GIF             food\n",
      "202  88d65e30-7ca0-4f32-a020-45c4cb3d9632        audio           travel\n",
      "203  05776481-7b58-46d8-abf6-bf4de7831287        audio           travel\n",
      "204  323c35ed-081f-4efd-8bd6-ce5208ceb0ed          GIF          animals\n",
      "205  8b51c05c-a8a2-4a6c-b031-165fb7bac840        video             dogs\n",
      "206  58059956-4cde-4671-9baf-904851731540        audio        education\n",
      "207  a429d355-8983-40a4-aa2b-c3f47acd5499        photo         veganism\n",
      "208  db3e5630-f959-4ce1-a12b-02efa655780e        video          animals\n",
      "209  c9ab41d2-5728-4d94-b16a-1e9b7af9b21d          GIF         veganism\n",
      "210  429632b9-88c0-4163-a7ed-4272a04f7838        audio          animals\n",
      "211  281054fd-2b89-4191-92ae-98e1bc0ed51b        video          fitness\n",
      "212  ebdf9868-075e-4fca-a3de-ef7b2cd8f7a1          GIF        education\n",
      "213  8ef185a2-8910-41f5-a109-95c925ebffa0        photo  public speaking\n",
      "214  839d117b-c764-4930-99f2-a6e4d1b47790          GIF          cooking\n",
      "215  db672f6f-2f5b-47bd-aed6-bfc22188de4d        audio           soccer\n",
      "216  037189e3-18c0-4f6c-a8cc-d6b86d679891          GIF             food\n",
      "217  709b527b-d26f-48f2-91f8-3cdd9702e564        video           tennis\n",
      "218  909cbb46-9789-4e9d-9148-890e5c44a9e2        audio          animals\n",
      "219  ceba816b-72ea-4682-8795-8569a46bb1d6        video             dogs\n",
      "220  1987b43d-bcb9-4ab0-8634-ef3623928e94        photo        education\n",
      "221  1a69604e-95a0-4b91-8051-f3730b7e009b        video          fitness\n",
      "222  3e64dfe3-e832-4352-a170-9806f64ac507        audio   healthy eating\n",
      "223  30c8a141-2c2e-4272-8854-ff5673509652        audio          culture\n",
      "224  92855e17-5173-4481-a3d2-b9374263f597          GIF          fitness\n",
      "225  ad08dde0-ec5d-41ef-baed-10c6d66028aa          GIF       technology\n",
      "226  d029d393-b80b-4a56-9450-7645ee42da07        video   healthy eating\n",
      "227  4ce7258e-3777-42b4-af6a-dd8898c42cfd        photo           travel\n",
      "228  75747dd7-8dad-4f2f-9209-62765223f3af        photo          fitness\n",
      "229  b47f0569-8d01-4ac4-a4ed-0fcc94cb96fc        audio         studying\n",
      "230  b1c49557-0623-4fb2-8f22-1453286fedad        video   healthy eating\n",
      "231  96209724-37a8-475b-b80a-03e96a7c33b1          GIF          fitness\n",
      "232  bb9dcde7-55bb-4fb8-b349-caa58fb08823          GIF   healthy eating\n",
      "233  a0606e08-1798-44f5-a575-28e82f79dfe3        video         veganism\n",
      "234  b7a5e38b-b990-4b8e-aaac-6cc9ee77f3d9        video          cooking\n",
      "235  3dc03a86-f481-42fa-bf43-a7bcf3b6572e        audio          fitness\n",
      "236  baf5959e-204c-4acc-838c-87617e79f448          GIF          fitness\n",
      "237  18a07663-ba3c-4ff9-94d3-bd533aa853c2        audio         veganism\n",
      "238  dc78a872-9057-4a8e-9a25-a1c407c1b7c9        audio          culture\n",
      "239  a3d563e1-c7a6-4367-9195-cddc36863735        audio   healthy eating\n",
      "240  350e0d40-e036-459c-9cbe-73e003c33cfa        photo       technology\n",
      "241  0e2169f4-b881-42d0-b99c-034b32f83504          GIF             food\n",
      "242  60ca0278-5ed6-4669-939b-e6dc2021c07d          GIF       technology\n",
      "243  13a4d35c-761c-47a3-b25b-5cc5825d04f2        photo           travel\n",
      "244  062cbf2f-fc22-4357-8890-63e7f13fcd37        audio        education\n",
      "245  45752c15-a54c-4b0d-8fe3-f39c40f6c8d9        photo        education\n",
      "246  a3e93c2d-7fb4-4881-994d-ee20ad564924        video  public speaking\n",
      "247  5b379d75-649b-426f-b420-4e0b6e4a0e3d        video           soccer\n",
      "248  7fe36d94-8867-4719-9c62-60b077cf5973        photo           travel\n",
      "249  56df8914-9d42-434d-9612-6bb518dd641e        video          fitness\n",
      "250  78461336-26e2-4d0c-ab9a-fefbe419a8dd        video             dogs\n",
      "251  25934ec0-56f1-4fe1-9bf4-d46b1dbb42ad        photo         veganism\n",
      "252  637f80dd-2d70-4658-ba5f-8d909b050781        video         studying\n",
      "253  cb807d6e-079e-417e-adfc-759df6eddfa2          GIF         veganism\n",
      "254  227a8c57-e5a0-46a8-999d-fcdea42c0905        photo        education\n",
      "255  94be0dfb-a23a-4426-9c3c-e4db1fd914b5        video  public speaking\n",
      "256  19179d57-4950-4a98-87fa-98f824551a6f        photo        education\n",
      "257  3926740f-e4f7-4229-9aad-e435149d0d2f        photo          science\n",
      "258  590873fc-e921-4396-a173-a43451675afc          GIF         studying\n",
      "259  b4c71928-99f0-4f1e-bdff-3d99c16113ac        video           travel\n",
      "260  c7b02507-18a2-4169-91f1-4fc727c8bc03          GIF             dogs\n",
      "261  70b0202f-cd58-42fe-acd9-7b2f8cf9e7c6        video          cooking\n",
      "262  2677e7fa-4c0e-44c5-9d4c-66615a42e86f        photo             dogs\n",
      "263  4b10b6a2-d8ad-4f48-835a-e0ec47e7e72c        photo        education\n",
      "264  990ad477-b9eb-4ea6-9ec8-3f941f53b758        audio          animals\n",
      "265  2240bbde-db67-4d73-b885-f0117b4b2080        video             food\n",
      "266  8338222c-c31f-40f3-883c-44125f36bae8        video        education\n",
      "267  59bb59ce-776b-4d28-85ee-c0d71c690b6a        audio          animals\n",
      "268  bb3901bd-a3d9-4f45-8b0c-0548c36385d2        audio          fitness\n",
      "269  b814490f-ff17-4f98-8fb0-cade9c2d8e61          GIF          culture\n",
      "270  72878c11-38cc-4442-bc81-7eeef47c531c          GIF          animals\n",
      "271  b50871e0-183e-4a1d-884b-f20fb271041b        photo          cooking\n",
      "272  5163acf9-9bde-4f09-81e2-d8711e774360        audio   healthy eating\n",
      "273  802a8533-3051-4e2c-ad30-7751ece5d514        audio             food\n",
      "274  8f12f846-7528-4516-aa7c-f937d868c904          GIF          culture\n",
      "275  35489ad9-c3b5-4fcd-a6c0-9f2c667c55a8        photo         studying\n",
      "276  636e6499-b670-4cd4-a829-2c4c9e07db2a        photo           soccer\n",
      "277  2363df47-ee8b-433d-bbfc-34d5ac57e2aa        audio           travel\n",
      "278  ac120787-f331-497f-8733-7cd63dfd36b6          GIF          culture\n",
      "279  9ec9b340-df2d-472f-9a7f-80b4790788e6        photo           travel\n",
      "280  5c38166c-8305-4227-ad54-bad36df2a57a        video          fitness\n",
      "281  da8f7258-6757-4a7e-892e-a16b925ef83b        photo          cooking\n",
      "282  e3c37598-5a41-471c-a65b-e0e1bef2f3ec        audio           tennis\n",
      "283  ecbba40a-93f2-470a-b565-938f61f527a7        audio  public speaking\n",
      "284  05805658-8744-4cc4-825d-cbfed0ecea7c        photo       technology\n",
      "285  962e5969-cd65-4670-a2ae-b0266908426b          GIF         studying\n",
      "286  6fc7f722-0a93-4420-8376-09d6536ecef8          GIF          fitness\n",
      "287  1601a6f1-4b94-44ed-b9a1-6f64a1a82e9a          GIF          fitness\n",
      "288  e611ee64-7ada-428d-aa37-94c8c0782a91          GIF          cooking\n",
      "289  e96d9fcb-b5be-4382-b809-6315dbe6f89a        photo           tennis\n",
      "290  a7a7c909-15cb-4719-835b-cc9f835feb50          GIF          animals\n",
      "291  77099957-1551-435e-b386-704d8b91a46e        audio          cooking\n",
      "292  760e026f-8373-4aa4-acb5-03eb102fc733        audio             food\n",
      "293  5c7fa152-9628-471d-b715-84e15c4b5d38        audio           tennis\n",
      "294  25948d39-4549-4ead-be71-6a571bd56fe1        audio          science\n",
      "295  d03efe68-5986-48c4-8767-93b8f5881004          GIF          animals\n",
      "296  678dd299-afc6-4e35-890d-38a016cfdeff        video  public speaking\n",
      "297  4bdd31e0-2f59-4262-bcbe-546678a3d203        photo   healthy eating\n",
      "298  11b96207-c1c5-4083-948d-2942684aae0d        photo         studying\n",
      "299  51a26a10-6973-4882-aa88-98b53978ce01        audio         veganism\n",
      "300  693b5f91-52b1-4464-916c-91adccbec996        photo          culture\n",
      "301  4898f7e1-1431-4e9c-a444-dbea02d58f85          GIF             food\n",
      "302  8ea001b0-f13b-420f-b0f2-0cc35bdcd152        video         studying\n",
      "303  42afb980-6f27-40d3-962e-bff8eada090f          GIF          culture\n",
      "304  70a9e79f-ca7b-48e1-b521-c1d16cb2e36d          GIF        education\n",
      "305  7dfe344f-172b-4d1d-a9a5-d63e7a097642          GIF          culture\n",
      "306  581634a6-14c7-4c0a-8c7f-34238e58cf6a          GIF         veganism\n",
      "307  1e773c55-ec7e-47f2-916d-98d0b778a048        photo             food\n",
      "308  c63235b6-aad7-42ff-96ba-978e47a6c5fc          GIF           tennis\n",
      "309  194f1ad7-43bf-4cdd-a01b-e6947df47403          GIF           tennis\n",
      "310  85e013ce-3474-4c9a-a4ea-7b726a29baae          GIF          animals\n",
      "311  212b7926-c743-45d9-85f2-63e0e8f85208        photo             dogs\n",
      "312  cb14a57b-9a8e-4694-9516-5a7d2ec41438          GIF           soccer\n",
      "313  f5d6cb3a-923b-45fb-857a-7250b679625e        video           travel\n",
      "314  9a5951a5-a36f-404e-a746-f6023c160fc0          GIF          science\n",
      "315  26ea4466-0d88-482a-afab-e502beb4a316        video          fitness\n",
      "316  9ee8836d-af4b-46ad-8869-4e0b1dedff7d        audio           tennis\n",
      "317  b81f446e-be9b-4fff-8faf-7732c6306c75        audio          cooking\n",
      "318  d72ea14e-16fb-4e2d-acf1-59a29dfa21df        audio  public speaking\n",
      "319  a059c110-6fab-4a4f-9482-eaf2c269911e          GIF             food\n",
      "320  b90bb1f2-9dbf-4802-a0e2-103dac50d272        video          fitness\n",
      "321  e501d99e-9e52-4c26-b33a-edba700be4e7          GIF          cooking\n",
      "322  31f3802a-fe3d-441c-8732-102bd39f6db5        audio          science\n",
      "323  4b582733-141e-488f-8d02-3c4b149815a5        photo          fitness\n",
      "324  4e659bd8-44b6-41a3-893c-c528474a29c9        video        education\n",
      "325  8866b759-c55c-4fd3-9753-8a69265c481e        video          science\n",
      "326  915505a1-6d75-4894-8200-0f088c19431b        video          cooking\n",
      "327  eec5dae8-e4d0-4b15-80a9-ac55352cb5ca          GIF          cooking\n",
      "328  3ce1063a-2277-4285-97b0-9bd53a941cd7          GIF           travel\n",
      "329  42d062ec-2107-4fbe-9a77-2e00c67a7d63          GIF          culture\n",
      "330  1089b539-bbb6-4ef7-ba3e-a15af2bc5f42        photo             food\n",
      "331  2d10f5b0-c590-429f-8b68-52c239617d26          GIF       technology\n",
      "332  e75a100d-18a9-47a5-9554-1843ed350dc9        audio          cooking\n",
      "333  cb0bd265-610e-4d5f-bc00-1732f58562dc          GIF          science\n",
      "334  b2344491-76af-4b2c-b569-e9af85298b30        video          culture\n",
      "335  178f85a7-c2d1-4127-94d2-30adf96ae7fd        photo          science\n",
      "336  89cf06bc-e921-4cfd-bd16-d071757d90a2        video          animals\n",
      "337  a39e8a86-63e3-4dcc-8561-4a0b7006df53        video       technology\n",
      "338  16fb5dcb-4349-4831-acf2-8c116ad7dae5        audio       technology\n",
      "339  0d5eb9fd-879d-4716-aebc-840f7b1b7e9f          GIF             dogs\n",
      "340  e4827a5c-c604-4aad-b7ed-b396b3601b74        photo        education\n",
      "341  abecd821-ad3d-43b0-a550-aadd9d267072        video           tennis\n",
      "342  0289b7bc-bc95-4f1d-83fe-9ca662194158        audio           tennis\n",
      "343  3a7b85dd-717e-4460-8144-498fdbc9380c        video        education\n",
      "344  03e51c25-cba9-471b-b627-f15550b83fca          GIF         veganism\n",
      "345  daeddfcc-c030-4674-8317-56a23ab81799        audio          animals\n",
      "346  71246f1e-0b64-4922-a6ae-c86c446837be        video   healthy eating\n",
      "347  41bc0418-db4b-48b4-ada6-18eda999cd25        video           travel\n",
      "348  31d142d9-4557-4613-bce5-cfe63cd0a3cf        photo           soccer\n",
      "349  77f0131d-a06e-40d6-8f6d-a64c0491d1b5        audio   healthy eating\n",
      "350  ad5ddd13-b8ea-4174-ad71-da1663c7f959        video       technology\n",
      "351  447954af-c2c0-4546-881c-3ba1cb104209        audio           tennis\n",
      "352  a8d3e5b8-7838-477c-82ce-4c90029e56ce        photo  public speaking\n",
      "353  a412c4fa-42c9-4bd8-a2d7-1ad1dcbe9615        video             dogs\n",
      "354  3b436c19-72fe-429a-80dd-88d24ef549d1        video           soccer\n",
      "355  0c042b6c-725e-4591-a666-cf32c5ec7cc8        audio  public speaking\n",
      "356  dfdf6d34-e60b-4d21-9973-4bf07769be78        photo  public speaking\n",
      "357  cebae43b-4f77-4689-86e0-66fb107d5eef          GIF          culture\n",
      "358  7e2e14e2-79eb-41d0-8d5f-eba20460f049        photo             dogs\n",
      "359  34cb120b-853b-4788-8978-a3544449136b        photo             food\n",
      "360  e4fd43f5-c0cb-47cd-bc41-1e07a8081323          GIF           soccer\n",
      "361  e4306fd4-391c-4016-8b5f-98594bb647a0        audio   healthy eating\n",
      "362  697af362-e84b-4429-b4ea-4123c6ab44ba        video          science\n",
      "363  8f640e2f-27bc-46cc-a43a-f750e357fc35        video           soccer\n",
      "364  f2143553-d9cd-4d8d-8276-98557a0054af        photo          cooking\n",
      "365  f4c8e6bb-e282-41f3-a000-bbabae7dbf04        audio       technology\n",
      "366  ad8bc9be-50a3-491a-b240-49b8f573238e          GIF           soccer\n",
      "367  54acd843-1e09-4b30-a80a-b9e0295ff269          GIF           tennis\n",
      "368  972b6e82-421f-43f6-905c-2168933de18f        video          animals\n",
      "369  f6c9e663-620c-4d18-9494-7eea83fbf4b7        audio          animals\n",
      "370  78c7c5a7-5de4-469e-8460-49e8e491bde6          GIF  public speaking\n",
      "371  d75016e9-9817-47e7-a2f9-dbfae392d3d6          GIF          culture\n",
      "372  567ddaca-f9aa-4e53-b9b7-b745a1ac0c95        video          culture\n",
      "373  46bd9a52-6547-457f-87fa-0e434e5bc61c        photo          fitness\n",
      "374  bc1f22da-d7b2-49d8-a6f1-1132776b4b18        photo          culture\n",
      "375  501b2f88-999b-4ad9-b2f5-4b9c36a31259        photo          cooking\n",
      "376  df15da28-c038-4d0c-a63a-eac77f650ee3        audio           tennis\n",
      "377  0da2523f-acc4-4687-9844-45eaa5e90c65        video       technology\n",
      "378  bc9cc9ed-3e90-4fef-a1e8-d54b31e88f30        photo   healthy eating\n",
      "379  b6ecb09e-a706-4589-bb75-70cb1cc590eb        photo          culture\n",
      "380  23a1f257-2f17-4e67-aec1-626c77d73216          GIF         studying\n",
      "381  02ba5af1-784a-44cc-ae3a-14833c4a2237        video   healthy eating\n",
      "382  c84f903e-32ae-4ce1-b66b-d876439fccf5        audio   healthy eating\n",
      "383  86f4e4df-636a-48f5-bb66-03ea4fd00214        photo         veganism\n",
      "384  f04de5da-e42f-4d89-a79a-3dff16f7d422        video         studying\n",
      "385  b27bfcfe-64df-499e-b60f-f93d2200c589        video           soccer\n",
      "386  91f7585b-c756-475b-9f21-877d7c48b579        photo           soccer\n",
      "387  9a2c328f-16aa-490c-8ca2-c7deaa90db3f        photo          culture\n",
      "388  800f467b-53a3-4d20-9342-51fe4fa36ebb          GIF             food\n",
      "389  b07a2298-7c03-49b3-a0a6-c65333847598          GIF          culture\n",
      "390  38a50d44-5a3d-41c1-bf46-58638def9442        video          fitness\n",
      "391  0d165485-5aa6-4b45-a18a-9449293727a2          GIF       technology\n",
      "392  45d2d284-1830-45a3-8c9d-95f8bdec3202        audio         studying\n",
      "393  2dcf2359-f366-46a4-8ac0-14229d056bb3        audio         studying\n",
      "394  f7c26d94-b7c6-45a0-b882-354d8d89c2af        photo          science\n",
      "395  b8368fca-8fe3-4768-beed-5056cff63c23        audio       technology\n",
      "396  29d7781c-9302-4269-91f3-c23afb33467a        video  public speaking\n",
      "397  1517abf6-67ed-47e1-9b9b-7e79a23a4d22        photo        education\n",
      "398  084a6656-0c55-43a7-a34b-7e5c5279a56d        video   healthy eating\n",
      "399  4df372b3-ed9d-41ef-b33d-b576ec383dfc        audio             dogs\n",
      "400  93081b1a-4446-438a-a0d7-fbcedc3c992d          GIF           soccer\n",
      "401  f361cc99-64f0-4a7c-ad49-945ff01abaa6        photo             dogs\n",
      "402  fc346df4-d165-4ed0-8d43-a6896daf908e        video  public speaking\n",
      "403  aa6c9668-7455-4a4c-9915-f7d4cb56c8c6        photo          animals\n",
      "404  64b9d086-2fd4-46d0-a19d-848572029de1        audio   healthy eating\n",
      "405  def0559c-73c2-48f9-b85d-0c807659207f        audio          animals\n",
      "406  362bdbf7-5b75-4ae5-8f37-79ef06b6e8e8          GIF       technology\n",
      "407  77b49477-2f3c-455a-b8f1-09ec2e553174        video          cooking\n",
      "408  1413f582-4261-4037-93bd-7356b0e9e017        photo         veganism\n",
      "409  d4813cf8-87d5-421e-81f7-c5d43c25c62a          GIF       technology\n",
      "410  b4871080-6bb7-4056-82a9-d8015d7b76e8          GIF        education\n",
      "411  b4d8b8ed-d538-49d2-a1cb-25548045bcf1        video   healthy eating\n",
      "412  9522ddea-8e07-4a2a-a001-25e4a534b8f6          GIF       technology\n",
      "413  8477eb49-08fd-44c3-a238-a13ee8cc5be8        audio             food\n",
      "414  b85e1b0d-1018-4a65-a709-4ac5323e06d9        video          fitness\n",
      "415  d826807d-be79-402e-a55a-baf08df8212d          GIF          science\n",
      "416  fbd8f70d-d62d-42e8-9508-9f5815ab578c        video        education\n",
      "417  6dbd153c-5b69-4ffb-a869-6285fb0c764d        audio       technology\n",
      "418  9108109e-c521-4528-9d90-4c804cbb866d        audio         veganism\n",
      "419  fea9077f-2fe7-43bd-aaef-dc2619988d94        photo          culture\n",
      "420  4b00c81e-66dd-45bd-9fb5-a9d2b37b62bf        photo          animals\n",
      "421  88cbf75c-79f0-42cb-8733-af670f39d6e0        audio          animals\n",
      "422  58e8f463-aee3-46bb-81bb-a49ed8de8b04          GIF       technology\n",
      "423  218838d8-52f4-4608-a1ba-d8988cc3d029        video             food\n",
      "424  81d2e41e-39c2-41da-bea4-a6b46daa3f6f        video          science\n",
      "425  197dafda-42bd-4a0c-93b1-2ec8bb0214f6        audio           travel\n",
      "426  d288a4cb-6361-4d4b-925f-a0bf2e3350ec          GIF       technology\n",
      "427  ac63258d-9d7d-4167-934e-48b3f3c43fa9        audio           tennis\n",
      "428  96d90aa6-a75b-4a75-9565-45f6cc8c9e98        video  public speaking\n",
      "429  d200b97e-f661-4502-80d1-1e458816d558        audio          science\n",
      "430  7f9423ac-89b4-4a9a-9747-76e8dd533e81        video        education\n",
      "431  6b09861c-712e-46e6-a2a5-72e4b3878767        photo         studying\n",
      "432  4c009116-c94a-4633-83fb-956565358565        photo           soccer\n",
      "433  34cd13f5-5fa9-45fe-ad8e-0135b67b558d        photo           tennis\n",
      "434  763560f8-e3c4-4dec-a40c-411c22d05c7b        photo             food\n",
      "435  21bc508c-dd96-4fb1-b8a1-a92bef9fa666        photo          animals\n",
      "436  5911afa4-2af5-4e7e-b6e3-e3b985597aa9        audio             dogs\n",
      "437  9531f7f8-d0cc-4e42-9cbb-94d93692653f        photo           soccer\n",
      "438  3cec7ac2-f9b6-4e4c-b392-63c59c3621f2          GIF   healthy eating\n",
      "439  09bb0893-a05b-49bc-95ec-1e158577bf13        photo   healthy eating\n",
      "440  c323d478-30a2-4140-a2ba-935a37b2ec10          GIF          cooking\n",
      "441  e409d5be-a02d-4688-9869-eb940fe1e133        audio  public speaking\n",
      "442  bd656a40-09c1-4219-8210-e667136e3734          GIF          culture\n",
      "443  28fbf4cf-c354-418c-8672-b7f2fee75b00        photo          culture\n",
      "444  afe1fed5-5639-45c7-89f8-ce9d1078c910        audio          cooking\n",
      "445  af6c5966-dfe7-460b-9853-62ed9f18aed4        photo       technology\n",
      "446  5ecad91d-3e8f-4a9e-9473-c3db5f2ab72f        audio  public speaking\n",
      "447  2b7f2d2b-2a0b-4d33-ada9-ee9629742dff        photo   healthy eating\n",
      "448  57528f91-7b0d-4120-acaf-82ee87f6df7d        video        education\n",
      "449  a82b8250-08aa-47a5-97c4-19f30f236179        audio          culture\n",
      "450  bde82663-7be3-453d-afc2-539202df27c3        video           tennis\n",
      "451  4e7535a7-4547-4da5-952e-607442ebed79          GIF             dogs\n",
      "452  5444a751-c58b-456a-9fc9-1e4f292f2920          GIF          cooking\n",
      "453  4c598198-bd8b-4b86-8440-b8ecba62abe7        photo       technology\n",
      "454  1157961e-120e-4b2d-8fb2-705433ed9918        video         veganism\n",
      "455  e0c5ae74-b379-4d34-a7ae-824daea8d682        audio           soccer\n",
      "456  1f0ed2b8-8531-416f-b694-a40a63f378a0        photo          animals\n",
      "457  65304022-f925-48f0-9dfc-436578f22c77        audio           soccer\n",
      "458  754eb96d-65d0-416b-aec4-4ba35836157d          GIF           tennis\n",
      "459  c0ea9b69-639e-42fe-8aa5-67f46036a17c        photo          animals\n",
      "460  476e3ce0-3291-4c77-b3a3-deabee114efc        audio   healthy eating\n",
      "461  83d08b29-6cdc-436c-89a6-20c3d60f7e73          GIF           soccer\n",
      "462  ae909545-786e-4089-9ef3-61c3c9fd3efd        video        education\n",
      "463  f5068d8a-d4ba-49ee-8f30-716c1ec57e04          GIF           tennis\n",
      "464  8de4028d-9af3-4dc0-a4d6-4d9a56eae3c5        audio       technology\n",
      "465  b9bfb48f-a6b6-4c15-869a-1acceea04fca        video           soccer\n",
      "466  3ac5929e-9d68-4ec5-ba6f-a018d3d4da41        video           tennis\n",
      "467  674507f9-c555-4876-89c7-c06b6db561c0        audio          animals\n",
      "468  e6193423-0d30-4439-884a-ea22fea68522        video             dogs\n",
      "469  dd7069e3-d0ad-4599-b159-032267fd5008        photo  public speaking\n",
      "470  732e236f-f063-42b6-b5c1-24938385a126        audio        education\n",
      "471  aeff2a7a-2cc8-407a-8557-fa4e96b2425a        photo           tennis\n",
      "472  6fd589e8-53ab-4345-896a-f428a92fcbe6        video        education\n",
      "473  1c77e474-0cc6-40ac-b48b-cbc511bffc77        video   healthy eating\n",
      "474  bcd3702f-c27e-48ce-889b-63f765f498ef          GIF        education\n",
      "475  10baeb43-5bb2-49df-9644-f91a3c77725a        photo             food\n",
      "476  f24f469f-53f1-4901-b6c5-18827ae0a103        photo          culture\n",
      "477  2ea5611f-f6e0-4696-9153-cda8d2b9a2a3        photo       technology\n",
      "478  06a70268-f59a-44b4-8ccc-6c8e6625a491        video           tennis\n",
      "479  7f5299bf-ae57-4c01-a84c-f0c6bc7a5b5f        audio          animals\n",
      "480  ec202582-a5b2-4ea2-992c-8a1ca8b705d0        photo             food\n",
      "481  d70f66c4-627a-4416-b1ad-51b5ccc8cf1d          GIF   healthy eating\n",
      "482  ed00f2a0-56a1-41f9-abad-bdcec9c0f610        video  public speaking\n",
      "483  b3562ae0-929b-46a5-8989-89e4ac3d1f7c        photo  public speaking\n",
      "484  2e84726a-e69f-44e8-ac0f-c4a31516e342        video             dogs\n",
      "485  dd5bd710-bb81-464e-a798-0291b385e883        photo   healthy eating\n",
      "486  a38cf15e-6a1d-42e8-bee7-0eeb456c700b        video           travel\n",
      "487  4d510edc-7c08-4524-a14d-f36f3b710020          GIF          fitness\n",
      "488  4fd0ef9a-008d-4b61-9a78-4b0257281140        audio       technology\n",
      "489  6796d3e9-ee98-47cb-b057-90cfaf6ebcbb        audio       technology\n",
      "490  76898916-4024-4c32-909b-dd240879d76a          GIF          animals\n",
      "491  8204e4bd-c544-4a18-ac0d-6f5289957cdf        photo             dogs\n",
      "492  301cfd14-3e4f-4058-b253-c591ef150888        audio         veganism\n",
      "493  56a3156c-41e0-4b35-8e6d-947961b3af5b        photo          fitness\n",
      "494  fd060448-7b3e-4626-b3ca-44bfe764e26f        photo          cooking\n",
      "495  60223ac7-2fa4-4bba-8156-1d90b367e21a        photo  public speaking\n",
      "496  74c85e37-5017-462e-bee2-2769db7a17c1        photo   healthy eating\n",
      "497  b400ea0c-43f0-4307-a3b2-78e5784d69be        audio          fitness\n",
      "498  79f1b9b4-b21b-4abd-802a-811540cbc845        audio           travel\n",
      "499  af373863-f9df-4330-b423-d2b802b30d6e        video             food\n",
      "500  6380e982-07ac-4d21-bd23-cec0bcfa1ff9        photo           soccer\n",
      "501  b13bec8c-4469-4cc8-8650-7057eb95d3ee          GIF           travel\n",
      "502  43450a12-1e4c-4a17-a846-9d8768984051        video          animals\n",
      "503  7913b30d-19fd-4900-8a68-ce141192b3ec        audio          cooking\n",
      "504  c5e2d733-94b9-4259-85e8-6fb7a95a1887        audio           tennis\n",
      "505  e3cd0095-28c9-4f10-b04c-77b4e38bb85a          GIF       technology\n",
      "506  b7983f99-c4c7-455b-a120-b144101449ad        audio             dogs\n",
      "507  f2f7e343-5e8f-4ef3-b693-4261971c2ee7          GIF           tennis\n",
      "508  a1d33ddd-1a6c-4dc2-afe1-bcf632cf0ce4        video             food\n",
      "509  c82d3a99-3d11-407d-9648-9f9560f40d7f        photo           travel\n",
      "510  cad48d10-3ad3-4bf0-bee5-330783eb8532        photo           soccer\n",
      "511  52995b7c-6f2d-469c-a331-596323e6ad67        audio          science\n",
      "512  888660b0-7dd8-4983-858a-101cd03d392b        video          science\n",
      "513  14ebfb59-8d36-4857-b8e2-b6d2fb3b243d          GIF         studying\n",
      "514  6ccf94b4-f549-4d17-a1d0-3bf7656bce81        video          animals\n",
      "515  145ed259-6151-4021-bc13-a0b5482e5bd8        photo       technology\n",
      "516  19f998c4-270b-489d-bea6-ae161d301923          GIF           travel\n",
      "517  2073855c-fab2-41ee-ad15-d4269b2ac4bd        audio        education\n",
      "518  3af75639-bdaf-4461-b630-d212e7fb4f30        audio        education\n",
      "519  12a7140a-6fe7-41e2-b2b4-75d913fcca1e          GIF         studying\n",
      "520  73fde78d-7908-4406-8377-747873ecd29a        video         studying\n",
      "521  d6c98c19-5733-47fd-9b03-e4574fbe4220        photo           travel\n",
      "522  0ce7392d-5c20-4ffa-a42f-767f51e9b466          GIF           travel\n",
      "523  0646f8f9-e558-4893-bb28-2228eb0c9323        audio          fitness\n",
      "524  ed28489e-90b0-4daa-a1fa-22170cdc89d5        audio         veganism\n",
      "525  6ddba21a-cc51-4bbd-b38d-02df5cec5f68        audio          culture\n",
      "526  d90a34f1-60ed-4a79-b7bf-fd22efa12e4c        photo           travel\n",
      "527  7286f9d2-7c83-4c7b-bc01-6f56eb0235de        video           travel\n",
      "528  69ce055c-e0bd-46c5-b856-bf2254d1c490          GIF   healthy eating\n",
      "529  2d7084fb-b457-4813-829f-73911025eeaa          GIF          cooking\n",
      "530  ab07c995-56e6-462c-9325-bd4a2ffd8c39          GIF           tennis\n",
      "531  8a5dddcf-dda6-4715-a804-10d98cbf8fdc        video        education\n",
      "532  360df5a1-8118-4972-a5d0-27033dba1f1c        video          fitness\n",
      "533  985f4b4f-de40-4a4e-a090-01e100be42e9          GIF           travel\n",
      "534  585c17a5-df96-4a6d-b144-a499e0469546          GIF   healthy eating\n",
      "535  8ed94c6d-bcb3-460c-aa5f-69199d2495e5        photo           soccer\n",
      "536  2c5a6a94-7291-409b-ba32-ba34c5ad7c0e        photo          fitness\n",
      "537  01aff5ec-2aa8-412e-99ec-526f0f9a6d5e        video          fitness\n",
      "538  853e37de-5ba2-447a-a0dd-a1b4407e5ec4        photo           travel\n",
      "539  41e6d775-b5ca-4d6c-8f50-66ac3c92a300        photo         veganism\n",
      "540  a8e72f75-bebc-42b4-a3c7-deb8a2412878        audio       technology\n",
      "541  de61a447-bbf0-477e-9743-71031d59bbf8          GIF         studying\n",
      "542  bceb7f2d-6afe-45fc-88b1-4d4c8f597cf8          GIF       technology\n",
      "543  6ee96d2e-a110-4e43-ab89-b5577b7b3dab          GIF          culture\n",
      "544  b014a42b-c469-4c26-b4aa-256f4d3d5072          GIF          culture\n",
      "545  3210c7c6-e7a2-4ae3-b69b-a111b359c56d        video         veganism\n",
      "546  9bc09268-79e8-4402-ba22-ffd1e45fa66d          GIF           travel\n",
      "547  12b89b4e-6770-489a-b7c3-812de3d61f20        photo        education\n",
      "548  f7b57d86-228b-4777-be51-dde8702f7b4c          GIF          cooking\n",
      "549  bc604b62-adbc-4c93-a2ae-602160714d1c        photo          cooking\n",
      "550  e4487829-621f-4265-8665-42a4c0610745        audio             food\n",
      "551  06cc70bd-87c7-4d40-81f9-8a4b9bc9856b        audio       technology\n",
      "552  3ea56656-03ef-4199-b253-b5241ee21eb7        audio         veganism\n",
      "553  55d5d3f9-566c-4fcc-b24e-02ca826cce58        photo          science\n",
      "554  27026304-2cb5-4d64-9959-9ff0328aaa03          GIF             dogs\n",
      "555  d3cc1365-2267-4b4a-8a06-40065d7ae0c9        audio  public speaking\n",
      "556  4b1c315b-84a8-400a-bb49-9fec7dc767d5        audio          fitness\n",
      "557  90418e93-aa5a-4608-866e-25464b617c9b        audio          science\n",
      "558  6a39e0b5-b1cd-4edd-bdfb-310e1a3e5910          GIF           soccer\n",
      "559  8cabe738-41cd-47e1-82e2-20972f320fb1        photo  public speaking\n",
      "560  b2055111-9b7b-4a05-9f07-ac190a5391f0          GIF             food\n",
      "561  e3bb5693-091c-47de-b4b7-78e28b5fbb98        photo        education\n",
      "562  d95a7e4c-d504-4cba-9bcc-4c4b1bfb06d0        audio       technology\n",
      "563  36bd1711-92f6-4240-8ac5-21df845abe86          GIF       technology\n",
      "564  2c9b8ec2-7eb1-47fd-891d-a5b23c019839        audio          culture\n",
      "565  9f3fd778-5ce2-43e5-bc5e-2af9b6b12fc8        video           travel\n",
      "566  e1484938-7b94-481e-ad0f-46629c043c96        audio          science\n",
      "567  e1b4a0fe-5069-4765-8170-ef44ab8f102c        photo           tennis\n",
      "568  7c4f0389-01a5-4ea8-a643-83414441fe81        video           tennis\n",
      "569  584211e8-3ca9-41a7-aeea-1d308bda53fd        photo         studying\n",
      "570  d05568a5-a7bf-4235-9b63-1e2233adf9a8        photo       technology\n",
      "571  596a3ffe-1e2a-4999-bf8d-c8f4a8974343        video          animals\n",
      "572  f8119ef8-1f00-49e4-b468-86dd64042053        photo          culture\n",
      "573  b467bf5d-1bcd-4c52-a667-6b88269ad02a        video             dogs\n",
      "574  632875ea-56de-4160-a76c-d1b3ae9e566f          GIF  public speaking\n",
      "575  24231380-c9a7-4b07-bd51-c9bd5c49cb7c        photo          cooking\n",
      "576  f0eb58d4-5e4e-4dd6-bbd9-853492b2e45a        audio           tennis\n",
      "577  1c6be4a3-85ae-48da-81ff-44262690af51        audio        education\n",
      "578  a5b45b7b-dec4-4c26-9323-a3d9a8cb9d5e        video          animals\n",
      "579  6054518c-4c28-4d65-8ebe-3b4f56108f29          GIF   healthy eating\n",
      "580  73ef953a-5bda-4532-bcd5-85a2cb61b803        photo         studying\n",
      "581  a727ed7f-5684-4536-b543-8e8fc93f40b1        video          cooking\n",
      "582  8fa19e64-72ab-4cff-bc92-b8a057395043        photo             food\n",
      "583  634a05ab-0751-45fa-a1b4-b4a9b8342f61        video           travel\n",
      "584  fa337cb5-179a-4f92-a085-e6b3c60e2854        audio             food\n",
      "585  46219a74-c2db-4479-a96a-d3ee54d1ea7f          GIF           soccer\n",
      "586  1cd59d79-a2ca-4a99-92aa-2775117c4589        audio          science\n",
      "587  d374af60-1487-4ee4-ac6a-fcc59ae6ea45        photo             dogs\n",
      "588  f6fed2d9-0e25-48b8-bb76-f7cb0667553a        audio           soccer\n",
      "589  12c49449-a896-48cb-a33b-47e8952f23a7        audio          fitness\n",
      "590  e949f4c9-81b0-44dd-8a69-0c233134bccd        audio          culture\n",
      "591  c2640cbb-d9d4-424e-9ef5-a4c972ea2f09        photo           travel\n",
      "592  1735c0ee-4834-4428-8e6c-014e8fd44bc5        video       technology\n",
      "593  fdca8d15-966b-4825-8133-1fafc5c1f9fc        video             dogs\n",
      "594  e1da66ba-31f3-46af-aaa3-a183e3e7eb56          GIF         veganism\n",
      "595  a372b4b7-6bac-4302-acee-745aa34ff4bb          GIF         studying\n",
      "596  116451da-4b67-4bcb-b43b-b19a914e0d36        video             food\n",
      "597  c39f187c-932b-4403-ba6f-e081b235dbd4        video           travel\n",
      "598  fc462e49-0f19-4601-9f92-a31c9542887c          GIF        education\n",
      "599  48fd48c7-bc82-414e-8941-aa2090183aec        photo             dogs\n",
      "600  0fbdd670-a266-4805-9bbc-c5ad73cf97b3        photo       technology\n",
      "601  87958932-6baf-4339-b01b-6112d9b180ed        audio          culture\n",
      "602  2f246c65-25f0-4144-b3f1-a180865b1766        video       technology\n",
      "603  5403a041-447d-42c1-a9f2-3c525449b3b8        video  public speaking\n",
      "604  e57d3bd7-da38-492d-a87d-3a643f61fd9c        audio        education\n",
      "605  1d8fbfdc-3c0f-4fbf-ac50-f812ce9db36e        video             food\n",
      "606  b0cad7dc-6333-4160-8e7f-425182eb4e29          GIF             dogs\n",
      "607  70047f87-af62-4674-bf30-a03c9ee9db09        video             food\n",
      "608  0f254679-b92b-4a2c-84b0-ba6f84f59a33        video         veganism\n",
      "609  26a2a058-3806-42ef-b1e4-24c6b64f9bdb        audio   healthy eating\n",
      "610  d1086f65-a34e-4694-83a8-df971a3041d0          GIF       technology\n",
      "611  b62831cc-7447-465b-9c58-1fc659b17310        audio          animals\n",
      "612  2e866dc0-7c14-4e2a-9edb-9ccc1d1bd048        photo          culture\n",
      "613  f9c0a47d-c96d-4457-a1be-aa7642ea38c1        photo          culture\n",
      "614  b3c0379a-b71a-4f6f-9fde-ceb636739633        video          culture\n",
      "615  02fca291-d239-4303-8725-1c114be2f32a        audio             dogs\n",
      "616  af8ab833-e28c-4451-b7f6-83f3953d556b        photo             dogs\n",
      "617  00d0cdf9-5919-4102-bf84-ebde253c3cd2        audio   healthy eating\n",
      "618  7cb131be-2e2c-4c28-9e88-66cec9d34e4f        photo       technology\n",
      "619  87bf6cd4-f955-418b-aa84-9bfffcb4abeb          GIF   healthy eating\n",
      "620  80f6df7f-517f-4f0e-b6cb-004d61ad2bc8        photo          animals\n",
      "621  072fb6c2-1505-408a-a35d-f0c4ffaf2696        photo          fitness\n",
      "622  baadf2d9-ab5b-458d-a3cf-37c39a69be50          GIF       technology\n",
      "623  c2373565-f5f1-415f-9786-49ff558c7739          GIF           soccer\n",
      "624  cc253c91-6df6-4de5-ab4e-6d1127620fd6        photo          science\n",
      "625  b0fbee80-d1fe-4be5-9a32-47f61e395669        photo             dogs\n",
      "626  327dd631-2d6b-4acb-b0a7-804cda5009b2        photo          cooking\n",
      "627  0c6e8e2a-7692-4490-b545-f76b0d06697a        photo          animals\n",
      "628  9476189c-8342-489e-985c-81de9320f527        audio           soccer\n",
      "629  d539c60f-9967-44b0-a11e-26d5dfa43884          GIF          fitness\n",
      "630  410c757b-918f-4c71-892b-2e6e7697bd86        video           travel\n",
      "631  51577f6a-e29e-4ed2-93eb-e7bd4eda800a        photo             dogs\n",
      "632  a52f38d8-1c2e-4adc-b451-01c49f650195          GIF   healthy eating\n",
      "633  140a5163-66d8-4a11-8d4e-a670483bb852        photo          science\n",
      "634  436536b2-6d05-4e20-af6e-cade48b4bcf9        audio          cooking\n",
      "635  9c55917b-055c-4ae0-b044-cce9fb89bfa9        video           soccer\n",
      "636  5e813176-850f-4791-a750-4961429c2458          GIF           soccer\n",
      "637  efda0319-e547-484a-84b5-c5041a57502c        photo             dogs\n",
      "638  a881e5c8-4f16-4823-85a8-c595fe220385        video           soccer\n",
      "639  520450a4-c852-4a4e-9383-30657dd07533        photo  public speaking\n",
      "640  15dc9c91-11a7-45d6-ba68-107e6d4dcf7b        audio           travel\n",
      "641  c2fbcf27-369b-4385-925a-ca2eca1403c1        audio          culture\n",
      "642  10683ab8-914b-43ae-ad2d-b2fd6a48dc33        audio           soccer\n",
      "643  b70b6e70-0a64-4bd1-8704-b351821556fc        photo          culture\n",
      "644  431c5aac-aa89-41e0-99e0-92d237ca9408          GIF       technology\n",
      "645  4e563460-68bf-461f-8de2-4d27eaacac2b          GIF          animals\n",
      "646  d0f8e229-c57e-460c-a08f-59672c606151          GIF           soccer\n",
      "647  6a30164f-28c3-4d10-b928-66585a85cbb5          GIF           soccer\n",
      "648  2387f014-e650-4df6-8daf-a9d863c10c7e        photo             food\n",
      "649  bead7e6d-0e1f-489d-81b2-d006a67b5b33          GIF          science\n",
      "650  9c8be342-6cff-4d80-bf94-fd0fd8ccd845        video             dogs\n",
      "651  273cb565-8c43-428e-bd2b-46ae0c2ae046          GIF          animals\n",
      "652  5b71c62f-2c89-4d19-991f-65fedd0b52fd        video        education\n",
      "653  d624685f-99a7-4aee-902b-283f5cf85ada        photo         studying\n",
      "654  965a00aa-3037-4ea6-b6be-26f6fbee029e        audio  public speaking\n",
      "655  79dfc9a4-42c0-42a5-abe4-2b5d3b8a05ab          GIF          culture\n",
      "656  84a81261-6334-4ba5-978d-26a45d28a44f        audio          animals\n",
      "657  595037a5-5e9a-42f6-8f50-a55827dc41ac        video          animals\n",
      "658  22cdf77b-00c8-41c3-ad59-333c3e751e2c        audio          fitness\n",
      "659  28b8c278-a125-4295-98dd-5f8d45c3200b        photo           tennis\n",
      "660  e1792fe6-28e0-49fc-8b01-0e027461d8b5          GIF       technology\n",
      "661  0c91753a-0bb4-4b77-a919-96c2f998ad91          GIF          fitness\n",
      "662  fd0a3090-6b89-4c4e-9192-1aa4db213a3e          GIF          cooking\n",
      "663  9a25d0c6-1134-41d2-abc4-e893c41363bc        video          science\n",
      "664  2f5dd79a-8884-4086-ab6f-00b3bea9d366        photo          cooking\n",
      "665  5a0b2edf-78dc-4c4f-ada9-464523b52f12        audio          fitness\n",
      "666  37ff78d3-d31c-4bde-95c6-83390749a367        video          fitness\n",
      "667  d86a1ec9-a883-44f8-b1ad-2a182c741fe7          GIF  public speaking\n",
      "668  dfaed54d-123d-46c6-8a86-dd11c30e4ca3        video          fitness\n",
      "669  cbf66fdd-cd86-4517-8081-181e45f13823        photo          science\n",
      "670  18cb1ce7-fb66-4a56-8042-e38c9593ade1        photo          animals\n",
      "671  d0c1d7f4-7735-49a9-ab6b-2cdb2338a609          GIF           travel\n",
      "672  f3e8d168-6fb9-48b9-8347-b35595162c1d        video           soccer\n",
      "673  781383dc-f5ff-4d62-87df-c3557f5eced9        audio       technology\n",
      "674  efffd88f-7ddb-4579-bbf2-e3d248c122b4        video           tennis\n",
      "675  f9e9544e-16b5-416f-9aec-80a723d1e64c        video          culture\n",
      "676  43830153-4c89-4502-a7f7-bedbc08cf903        audio          fitness\n",
      "677  43ea5509-7ff1-4150-b263-d5eac9d6f69f        audio             dogs\n",
      "678  0be329af-19d6-4a34-8bc1-f4391e9877dd        video             dogs\n",
      "679  99fcc8a6-550f-47a1-b312-aba8a031f6c7        video           travel\n",
      "680  7cbe1ddf-f81e-4597-be11-420b4dd815dd          GIF       technology\n",
      "681  aafa015b-7447-421e-91bb-b64720402d9e        video          cooking\n",
      "682  72167d71-578d-428f-af6d-5a8a92e677af        photo          animals\n",
      "683  b0dd04df-83a1-470f-80ad-bb173a5e44bc        photo          cooking\n",
      "684  5f87a730-589d-48fb-ab94-e69274d7b89e        photo             food\n",
      "685  e221de96-8536-4782-8281-f9cda62f3c81        photo             food\n",
      "686  74622897-59cb-4cf4-8ffe-3a25aeebc234          GIF          fitness\n",
      "687  09f5578e-6cf1-4e80-b102-7aae7b9d5d67          GIF         studying\n",
      "688  f86dae91-1330-45cc-8353-32839ea82ba6        photo           tennis\n",
      "689  bfeb6117-9179-469d-9ea8-8f41a251a5fc        video          fitness\n",
      "690  1287b5c5-604b-462b-bf77-e64a8e89739e        photo         studying\n",
      "691  f0a10ef0-89c7-46b0-828a-e9eec53a8cbe        audio        education\n",
      "692  a6cace19-96eb-40b3-b6fb-2a1a4e444dde        photo          cooking\n",
      "693  1b7d1f70-21dd-483b-b395-e15f4c2368f1        photo          animals\n",
      "694  27e2cea3-b408-4e66-801b-29fdf7c03b05        photo           travel\n",
      "695  c6616e7c-f815-46d0-9b1d-d7ea977f5d32        audio       technology\n",
      "696  846b8dcf-d2d2-45e7-816d-7dd62d4fbbe4        audio          culture\n",
      "697  3fc1f583-ce7e-4cfe-b891-d16976953fda          GIF          science\n",
      "698  5d3d5107-2404-4fb8-a9b6-3c8428492f64        video         studying\n",
      "699  46c69019-89b5-4a13-9b8a-2942ca22837f        video          science\n",
      "700  2c043e74-63e2-472b-a31a-6ea060febfc1          GIF        education\n",
      "701  6b2db46f-f733-4b56-af09-0ed7bb232ed4        audio          animals\n",
      "702  461cb0ce-0b43-4f13-a8bd-847fc6428c6c        photo          fitness\n",
      "703  7df4b13f-c41a-4c81-88fb-213a6a96acc5        audio          culture\n",
      "704  7df08397-b59a-4973-8c62-fc5d4c36c08a          GIF         veganism\n",
      "705  28fc1e6d-eae9-47de-af11-11ad726b2a88        photo          cooking\n",
      "706  7e9865ec-7455-4b39-89f7-92e2a82d0f12          GIF        education\n",
      "707  b6f447e5-0a89-468a-8ad2-fd45676170d5        photo         veganism\n",
      "708  292051b5-b835-4a60-962a-bddf10da82bd        photo       technology\n",
      "709  088e2e43-61a8-475f-a3e6-061f626b0f16        photo         veganism\n",
      "710  bb6c0257-5d4d-4bb8-be58-4bd7ebd9c337        video          animals\n",
      "711  02664d35-87cf-46a6-a80b-78fbc9ac8b2f          GIF          science\n",
      "712  e0cb0394-c5b2-447a-a9f4-88604a3ec283        audio  public speaking\n",
      "713  ec6c41c9-509e-43ff-83bb-0e5202b8e62a        audio        education\n",
      "714  e17bade2-3175-49eb-92f4-7f2eac74147a          GIF           soccer\n",
      "715  3896723f-560c-4008-9635-e3ecf1e2b37c        video          cooking\n",
      "716  a048f504-f428-438d-bb91-f1ad562ff5f8        video  public speaking\n",
      "717  9c6b0084-60ba-4e88-a0c7-ba0f61ec2c11        audio          cooking\n",
      "718  ef1ed168-7433-4233-ade8-95070d70a382        audio           travel\n",
      "719  bb157107-088c-45aa-8d16-5c093a7471c6        photo          culture\n",
      "720  45630f5a-78c1-46a1-bdc7-79cd11bb3c13        photo           travel\n",
      "721  79818849-98f9-4b6b-9be8-4ed4c1ad59a5          GIF          fitness\n",
      "722  579d5149-3549-4757-a0c4-545821236fb0        video           tennis\n",
      "723  475541da-3402-4d0e-9df5-0da198f8fc9c        video          culture\n",
      "724  ab57fef7-f7fd-4950-9fe6-5ce2677cac96          GIF          culture\n",
      "725  dc1d4628-4edc-47c2-8da7-0b3d16ef5ddf        video       technology\n",
      "726  17e3a8c5-ecb6-445d-8b69-f8c202d08549        audio          cooking\n",
      "727  df06cdab-afc8-4965-9b10-c270b0cafedf        photo          animals\n",
      "728  8ec8db61-8bea-440b-88ee-f1f593eb4a7f        photo        education\n",
      "729  c582f515-4d90-4ae6-9ab7-059fdbd7956c        audio       technology\n",
      "730  6082eb46-c239-40f5-bfcd-fb72b823ee71        video   healthy eating\n",
      "731  59523d44-6113-46a5-a85b-38de2ce7bfa1        photo           travel\n",
      "732  e6c8f317-c8a9-4b1d-941a-4cd5420a138b          GIF          science\n",
      "733  9c066976-30e0-405e-9973-5c4342271a70        audio           tennis\n",
      "734  1934a201-0590-41af-bf40-5ddd6254d744        photo        education\n",
      "735  279fdb2b-e9ca-4531-b55f-c8fe294083cd        video   healthy eating\n",
      "736  2297a93f-370d-47e7-8df3-3d464b3a0c0a        video   healthy eating\n",
      "737  25290b06-ca05-43eb-8e54-e345a41ddba7        photo        education\n",
      "738  0411a1da-97e1-44b6-945d-06b4682ba802        audio       technology\n",
      "739  ef802d01-6269-4d21-9159-f1386c75e789        photo       technology\n",
      "740  ee18c383-1e7a-4507-9e78-1061da09143a        audio        education\n",
      "741  ee0988ef-8656-4a63-9515-a2533b772636        video           travel\n",
      "742  3fe1e6e6-6d1d-43f5-9c25-7d0a1c14744d        video           soccer\n",
      "743  8526d7cd-bf33-4bf4-aa07-2c25c610cc74        audio             dogs\n",
      "744  df2214cb-61f3-4744-86a8-7c01e501bc27        audio          cooking\n",
      "745  b15792cb-995f-473e-8372-5cbe88eb059b        photo           travel\n",
      "746  881d8944-8eeb-4439-b40c-9396a1e31f20        photo          science\n",
      "747  4b2d0fff-3b4f-43ca-a7df-c430479cb9ba        video           soccer\n",
      "748  fea8d77c-fd0b-4678-868f-fbae567642f3          GIF          science\n",
      "749  8945e374-9170-4799-b6b0-78fd9d5821a6        video         studying\n",
      "750  b0782637-2604-40f7-8fc6-5e7d9ffd2255        video          cooking\n",
      "751  55f46794-426f-441b-bb60-53b5e6beebc5        photo             food\n",
      "752  e61a1b04-17e4-4918-a637-ebfc59783ad0        audio          fitness\n",
      "753  343362dd-20e1-4b98-ad23-e3d8d497f98e        video           travel\n",
      "754  d39b0a7e-ce14-4ad4-aa9f-5aefc827f9e6        photo         veganism\n",
      "755  98169c04-79b1-4702-82af-ac0fa461e044        photo             food\n",
      "756  f663d05c-74ce-424b-89f2-58009b0095fb        audio  public speaking\n",
      "757  03750ad9-8d8e-4f8c-aec6-8766c9a0184f        video           tennis\n",
      "758  9ab406fd-4431-420e-b650-6c16714089bc        audio         studying\n",
      "759  845fe8d4-bffc-485f-ae96-fd8fe9ea013d        audio        education\n",
      "760  01f310fc-5692-4cc1-a7bb-fc62977d79bb        audio           tennis\n",
      "761  4c1ae4ba-078a-4720-aff0-817c7d549387        video          cooking\n",
      "762  964173f3-7019-4758-9ab9-df71585aa965        audio         veganism\n",
      "763  fa60edda-2d32-42ab-905d-2f5de379c461        photo          fitness\n",
      "764  d5ec7de3-8c02-4f17-a9f0-dc8a9e64fa1a        video           soccer\n",
      "765  964a54b7-7dc7-40b0-bd94-9898b670f9cd        photo          science\n",
      "766  37331f8d-4fc5-42f6-a367-e59ccde67c45        audio           soccer\n",
      "767  8f4cea30-10e7-4806-8c01-d78ef6bcbfa8        photo           tennis\n",
      "768  cba3c646-6b10-43fe-a1af-a0276815288f        video           travel\n",
      "769  80bf3ac3-e94e-44cf-81ef-345a8326802c        photo         veganism\n",
      "770  6f48fe2b-7c20-4065-8ae9-7bea61275dc7          GIF          science\n",
      "771  c48d7966-42f3-43a6-a0b7-0a2260ffa125        audio          culture\n",
      "772  85260ec2-7b35-4266-8071-580a8b4341ca        photo           tennis\n",
      "773  4bfc9824-aaeb-4695-8195-945686795b30        video  public speaking\n",
      "774  a168836d-7a74-41e2-a8ae-809fa556c8a0        photo           travel\n",
      "775  e1eca98c-c5fd-4fe4-825f-2d36e8bd56f1        audio         veganism\n",
      "776  ee631766-3818-4de6-897f-2355542b58e7          GIF  public speaking\n",
      "777  0ac85d23-c8ba-49ed-bec1-493b960a88c0        photo          science\n",
      "778  ef619e47-1e88-4e0f-8d91-590cd9ecc137        photo          animals\n",
      "779  f65dbde9-c8dc-4851-927e-964fa2e0908a        video        education\n",
      "780  019b61f4-926c-438e-adaf-6119c5eab752        photo          fitness\n",
      "781  049c926f-9095-4bb2-a464-666a68257f61        video             dogs\n",
      "782  5bf45fd3-6b4b-400c-a126-31b8576e1d70        video           tennis\n",
      "783  8123c0ac-30b0-4a20-bebe-864b3a6b9e9a          GIF           soccer\n",
      "784  724b9f31-8bdc-4152-b93f-4d3e457201ef        audio          animals\n",
      "785  6aa06c00-d796-43c3-816d-70f21fe58f80        audio          science\n",
      "786  3f6b1a9d-db78-4d9a-a495-9de7bd9bbe5b          GIF           tennis\n",
      "787  96ece45a-89e4-4cf8-b216-c860bf8e158e        photo             food\n",
      "788  5efb3710-c34d-4dc4-84dd-31cd8c5d9c30        audio          animals\n",
      "789  6912f8e6-86b7-44f6-8aa8-c21c2ed0b53c          GIF             food\n",
      "790  4dd4da35-453e-466d-95ca-b1a7710fac1f          GIF       technology\n",
      "791  f47074e8-5189-44ac-82f8-4309d63650b4        audio          culture\n",
      "792  15e13281-8bd0-4f40-a0fa-44749cf32378        video             dogs\n",
      "793  31cbcaf1-75f9-4541-abd6-15723478047b        photo             dogs\n",
      "794  1bbfe52f-37e2-4874-8422-161a60b331e1          GIF          culture\n",
      "795  94f8ffbb-d888-4713-8cdd-ea57466d88b2        video          science\n",
      "796  6e71ed3d-3fba-4bd1-8de7-2798dec6431e        audio         studying\n",
      "797  c3d1c36d-2ad9-45ce-be49-51c103351e62        video           travel\n",
      "798  b38723f3-878c-4308-b173-14f03639d9b8        video           travel\n",
      "799  942c5154-791e-47c0-bfad-264a3d6296eb        audio          animals\n",
      "800  e1eb9e92-2e08-48b0-8be7-a2a98048aa08        video  public speaking\n",
      "801  44eab5ca-b4a4-46c4-977d-197a78551861        audio       technology\n",
      "802  a739e02a-5d83-4e0e-b306-740652cf700a        video          science\n",
      "803  004e820e-49c3-4ba2-9d02-62db0065410c        audio           tennis\n",
      "804  7cace87f-53ff-40c0-99f5-abbc5b8f86d6          GIF          cooking\n",
      "805  8b1bfacc-00fd-4f6e-b647-6ecfe2b7ce69        photo          science\n",
      "806  6dbfb67c-e619-414b-b016-d24da6cbc294        audio  public speaking\n",
      "807  25c36533-1de5-4d82-879b-86180503cf8d        photo           travel\n",
      "808  c9b2829f-278c-4acd-a895-cf0bd337d36f        video          fitness\n",
      "809  a861f7e7-b2f5-4d86-966c-7503c8faaeca          GIF          animals\n",
      "810  56b0b1ab-a07c-4379-b699-80ccc8689c85        video          culture\n",
      "811  6c8d057d-756a-41dd-afef-bf73adffbdf4        audio             food\n",
      "812  5d915af1-3cc3-4d44-a0ff-d170a008a5d5        video        education\n",
      "813  f6055aa8-0c90-4e92-a8a6-7d046f35acd4          GIF          animals\n",
      "814  59f7eb93-7ffc-4627-98a6-9ecaa5e35206          GIF          cooking\n",
      "815  990f1598-4dbb-403c-a5b2-48de2c30b1ca        audio             food\n",
      "816  fe06b730-b1f8-4f55-af1a-52487d8f1ec6        video          animals\n",
      "817  92c1fcb5-5b56-4780-85cb-0c4858b39b3e        video           travel\n",
      "818  0701343b-6105-40e4-b275-7f3d292b9e20        photo           tennis\n",
      "819  451b228b-9d66-45a4-b6fa-46c502562b5f        video   healthy eating\n",
      "820  c9082d3b-6f2b-4057-a0b8-3538a247982a          GIF   healthy eating\n",
      "821  1dbed432-50e6-4955-9ac8-798fb60b2f0e        video          science\n",
      "822  348efc5c-f887-4cfa-b165-0dda4da85291        video         studying\n",
      "823  7c47e333-da29-4be9-8156-2e5f75a991e1        video             dogs\n",
      "824  f1836624-ac23-4c4c-a868-ebf3256d6e80          GIF          cooking\n",
      "825  ae87a6a3-1a9e-4323-981d-b63c1f8ca2a6        audio             food\n",
      "826  2664a681-e732-422f-b529-02fabb6ec9ab        audio   healthy eating\n",
      "827  aad272f0-2b16-478b-b2c5-c502b060fc30        photo             dogs\n",
      "828  1dec5263-8a54-43fb-bfbe-a388d2919e74          GIF             food\n",
      "829  c75dfa33-cd71-486f-b4e1-f5e9133ae873        photo         veganism\n",
      "830  0f1cb5c0-ac2a-4c8a-9fb9-115d60493247          GIF         veganism\n",
      "831  40727608-362e-4e10-970f-2b5a5f8c37c1        photo          science\n",
      "832  09f2e925-5086-42ad-8160-e763396a36ca        audio             dogs\n",
      "833  6cbac852-fec6-49e2-95db-d62edeb477d0        video   healthy eating\n",
      "834  445a06c1-3dea-4129-90eb-2384c0534eb6          GIF       technology\n",
      "835  abf9ec3b-1d0f-4238-a8f8-137072dab287          GIF         veganism\n",
      "836  60872f35-3eb4-4742-b3b0-48f15f11be66        video           travel\n",
      "837  1b6f05f1-df9e-4ad4-989e-029baf20478f        audio          fitness\n",
      "838  1a5b511a-7199-4f05-988a-1f1d0380ca11          GIF           travel\n",
      "839  5ac2552c-15a5-41ed-8d67-9c57bce74ebc        video           travel\n",
      "840  b5966298-63d8-403e-96ab-9a610eb9752d          GIF           soccer\n",
      "841  ec69ad7c-c57b-4d10-ad0f-930ff10bf687        video          science\n",
      "842  51a9bf9c-2c90-487b-ad37-9db7f18c36e7        video           travel\n",
      "843  9c542f56-b0ec-4df1-b95e-f56e1c467813        audio             food\n",
      "844  10df3489-3d58-4929-977c-d3e7e177f5fd          GIF         studying\n",
      "845  41c97dd6-3f0d-4a6c-9083-2163e8e08e19        video  public speaking\n",
      "846  e8d62710-7e3a-4bef-b6da-edaaed70c401        photo   healthy eating\n",
      "847  d3cc4cf1-81f9-49e7-bf5d-c0ae10a88139        video          culture\n",
      "848  95fe7e7c-f327-4a0a-af06-5a88346f8546        video          science\n",
      "849  4dca44b9-e65c-4d9d-93eb-6a24ec8950e9        photo          animals\n",
      "850  dd942c3f-2ed5-4849-9e2b-7484f5a4eaf4        audio          culture\n",
      "851  8b08e78c-4798-463a-b868-a0dc9fde777f          GIF  public speaking\n",
      "852  b3bcbff0-d160-4fbc-b3c6-8113ceb38056        audio          science\n",
      "853  4304a382-1527-4e7d-af7b-691d976f9ad4        video           tennis\n",
      "854  2ceee25a-8461-4409-ab41-7a72d97d722d        photo          animals\n",
      "855  6407f238-511b-4ade-b77b-0f3bc8b2f300        audio         studying\n",
      "856  437fab54-2c89-4b0b-8d89-dd2320d83e81        photo           tennis\n",
      "857  cad4858d-77e5-47f8-a6b9-4ce2971d8656        photo          cooking\n",
      "858  a4f6b4c2-36bd-4232-bef8-66577a601163        photo          animals\n",
      "859  f298ed7d-2aa2-4231-9523-c4013cef24c3        video         veganism\n",
      "860  8838fd48-05c4-4b57-a192-35e9ff67f9b2        video           soccer\n",
      "861  01396602-c759-4a17-90f0-8f9b3ca11b30          GIF           tennis\n",
      "862  3ca5a22f-aebc-4421-a960-d787d732f1ec        audio   healthy eating\n",
      "863  7bbce877-eb47-4ad3-9a57-7ec4a0190f1b        photo           travel\n",
      "864  e3107f22-f36a-4d88-9fca-1b842e141db8          GIF             food\n",
      "865  b3b384bf-3a17-4ccb-ba86-583dede8fe3c        photo        education\n",
      "866  b9ff65d6-b79a-4f9b-8745-10088ddf9934        video          animals\n",
      "867  3091e63e-1355-4eb6-9fa7-5c6e75f1d3b8          GIF          culture\n",
      "868  0c2bd955-f00f-4c2f-8999-7cc0ada4b3e7        photo          animals\n",
      "869  4ad4b955-c65a-467d-aa27-1ca804d05170        audio          culture\n",
      "870  3c6354b3-7e8a-4d8c-bb80-33f17c17bd32        audio          cooking\n",
      "871  8caec934-9519-47de-8dd4-b6d65e279661        audio  public speaking\n",
      "872  9b480f9e-cef3-46cc-8ea1-c116cded9661        audio  public speaking\n",
      "873  c24a56ff-256e-46eb-9936-a6284451fc61        video         studying\n",
      "874  fa3a6a40-59db-4027-b8ee-89c79ecbee7f        photo          cooking\n",
      "875  9a517a10-7dd2-4a30-b67a-925569d9ed84        audio          science\n",
      "876  4b6d1c04-e75d-4e96-b5f7-f49c4af8d89b        audio         veganism\n",
      "877  1625c44f-2a9e-46d5-abac-59ec211322a4          GIF           tennis\n",
      "878  f43114af-edb4-4629-bc15-7a483cf3eaf4        photo       technology\n",
      "879  295ff9f6-64f3-4704-9272-4a932f11d709        video           travel\n",
      "880  7ef17afb-ded2-4675-9800-2cf7fe58e6b1        audio         studying\n",
      "881  bfc26d2d-b5e5-415a-b104-64befef2f52a        audio             food\n",
      "882  2eb32cf2-da20-4b27-b4b6-c91716f528a5        audio         veganism\n",
      "883  7f7d20ca-fedf-48e6-8364-dbb8adeb4223        photo          animals\n",
      "884  6519b8ec-1253-4f91-8abb-3c5a04eccd2b        photo          animals\n",
      "885  fa39acec-96b1-441d-8f85-16dfb44bdfba        photo          culture\n",
      "886  4f215b36-f5c4-4294-81f2-80e4906b197d        video           soccer\n",
      "887  b6393b8b-320e-4558-8614-20a6727f2eea        photo             food\n",
      "888  04e1996d-ccb3-4b19-923a-8dc2a52e4bd4        audio        education\n",
      "889  c892a472-bf81-4946-83c0-d3697ba65b95        photo           soccer\n",
      "890  aa1f824d-9df0-4b4c-a49e-0cfb7e244122        audio  public speaking\n",
      "891  4ae90f6e-da63-4ce2-a357-a4b36c739b80          GIF           travel\n",
      "892  ec9a2001-b58d-4a7a-86a5-f7ff637f0fe8        audio           travel\n",
      "893  0a390a93-0e59-4a7a-a12c-d3f5ce4924fe        video  public speaking\n",
      "894  d61c4f76-99c6-4cd7-aaad-b3561880aa26        photo       technology\n",
      "895  286e2f5f-082a-4ce7-9396-db565106d5bf        photo         studying\n",
      "896  abae4f43-2356-4c6b-b51d-d2acf4644956          GIF          fitness\n",
      "897  d4012724-c8bf-4db3-8670-dfa1f630a72a        photo         studying\n",
      "898  21bc3be6-6bd1-4926-8bee-c4585873851b        video           soccer\n",
      "899  8c3e8682-dec4-4d3b-a4e1-8c146f70d56f        video             food\n",
      "900  bc8024c3-c51e-4875-b8df-419e9848f492          GIF         veganism\n",
      "901  1e1a8878-0435-4171-97e6-fddb4abc3452          GIF   healthy eating\n",
      "902  57d8470d-e644-4fe3-b56e-33f1c626e8ea        photo          cooking\n",
      "903  8d7a1aff-abed-432f-a458-a4ab40324e72          GIF           travel\n",
      "904  f0c6ae88-c87e-4812-9713-ae45018a1f73        photo          science\n",
      "905  8f82022e-2ba7-4269-ab8f-3b47f87004de        audio   healthy eating\n",
      "906  8891433d-d874-4bd5-a8ca-4114a4131b20          GIF           tennis\n",
      "907  52be2c2f-be1f-4cda-a2d6-5c147c018115        audio             food\n",
      "908  c4cc899d-4c35-47fd-9710-8e2dea9782c9        photo          science\n",
      "909  42a0f482-d3a8-4216-ba0b-1459abf854a6          GIF          culture\n",
      "910  041bf6c9-8b33-4ca0-a787-762eb8837d0c          GIF             food\n",
      "911  954678ba-9ecc-4c0c-93a3-aba0e289cfbf        audio             dogs\n",
      "912  5fefd228-c550-4023-b767-ec8aa62de850        video          cooking\n",
      "913  66af1757-534a-4ef9-a5a5-9d721e7c6c00        audio   healthy eating\n",
      "914  2771fa81-b26c-4e11-86ac-90e85faf4981        video             dogs\n",
      "915  3b448410-dd36-4e79-bf4a-ba07814b308e        video           travel\n",
      "916  a03b3048-776e-4925-a52e-f6b1760a1be4        photo        education\n",
      "917  56d13215-1444-49b0-8e17-3a888bcd4e1e          GIF          fitness\n",
      "918  cda6a453-27bf-4237-b848-b27706732716        video           soccer\n",
      "919  98a7f6b9-8dd3-40c9-8c98-db01b6c80015        video       technology\n",
      "920  a8160135-2d55-4240-8f28-fbee5ec84801        video         studying\n",
      "921  33696f53-ab7b-4f3e-b3a4-e0e82990339c        photo          fitness\n",
      "922  50c0f441-fde5-48bd-ba40-46f23b8cf862        video          culture\n",
      "923  cafddd25-5653-4219-8dc7-a3eae45ea926        video          fitness\n",
      "924  89e542b9-b37f-4666-9314-4535d76a2566          GIF           soccer\n",
      "925  c24f4499-faae-4ff0-baf1-4be6a9061aa1        audio          animals\n",
      "926  2669dbfc-65d4-4770-a916-e6507f881131        photo          science\n",
      "927  b529487b-160b-48cd-aacc-2741b18462c6          GIF         studying\n",
      "928  e3bfdd7e-d7e2-4717-b780-2fa14f3cf858        photo             dogs\n",
      "929  25c8f882-464d-4465-9ed2-e7f7706c1775        audio   healthy eating\n",
      "930  df6e9952-4e2a-488a-bb83-3a7241f30e6f        video          culture\n",
      "931  4789b064-7b3c-4339-bf15-b9e38222930c        photo        education\n",
      "932  77a3ac9f-7607-411f-a280-5431c71e3943        audio           tennis\n",
      "933  edea43f3-1541-4e42-8419-d1cdf749025c        photo          cooking\n",
      "934  217f4060-b378-4d79-992f-20502d407f7c        photo          cooking\n",
      "935  4426d1ae-cb98-45cf-8d1d-c176ef755293          GIF          science\n",
      "936  74989207-b147-4a13-89b8-f0d868dfdf4a        audio          science\n",
      "937  83a995e6-323c-4287-ab41-01543ac5fd1a          GIF             food\n",
      "938  9fdcedb3-8e19-4755-93b2-133673d4620b        audio           travel\n",
      "939  9489565a-a899-4693-ad48-369f86b4b862          GIF         studying\n",
      "940  c056339f-7bc9-487a-85eb-aa7c6da9e5fb        video         veganism\n",
      "941  5656bfe4-bcc1-4426-94b6-1f9dfe9a0db4        video           travel\n",
      "942  d347afb6-c092-4301-ba7d-4c59d10142cb        photo           tennis\n",
      "943  62e3c102-b551-4625-b949-d589babb16d8        photo           soccer\n",
      "944  fbd3e09c-b5a3-4e6d-bb3c-c729d54c5f3b          GIF           soccer\n",
      "945  37c5a8aa-d239-4b94-ae68-2754825d36ff        photo  public speaking\n",
      "946  8644e163-704a-4a99-a859-5e07fcfe3879        photo        education\n",
      "947  6547f69d-891d-4e1c-bd69-fc8735b8fca8        video          science\n",
      "948  235a0022-a683-4381-8e9e-aaf75fe90734        photo          fitness\n",
      "949  21dfb75d-9d98-4627-b074-f4372025d23f          GIF          culture\n",
      "950  e4127cae-c2e9-4321-919a-be6d11636808        audio          science\n",
      "951  46ebc5f2-bfe8-4ada-aed3-6265842bd1f3        video             food\n",
      "952  b70813e7-8acd-462a-9b13-6d1258030fed        video          animals\n",
      "953  daaae2e1-3090-4f64-9d43-b4e4ffbb5c8b          GIF        education\n",
      "954  03ed0e2b-bd63-4079-8910-62c187526ca0        audio   healthy eating\n",
      "955  4b10bec8-9754-4f5d-b129-a4b6fa030660        photo           tennis\n",
      "956  5dc325aa-d5d1-4552-9997-cd25b7608be9        audio   healthy eating\n",
      "957  503bd384-9733-4739-81f5-561b2328f6d8          GIF             food\n",
      "958  7053e0be-7227-4a05-893f-4bbee34f0f1f        video          science\n",
      "959  03344240-df23-421d-b0e3-4fac72fe6cd8        video          fitness\n",
      "960  16f8b629-5173-420f-9c8b-577313e9e128        video   healthy eating\n",
      "961  24f994fa-51d4-4e5e-bdac-79de67e7afbb        video             food\n",
      "962  b9b0dcaa-7b39-4b15-9f75-165ae7aac6b8          GIF          animals\n",
      "963  e7baa303-bc5c-4990-b813-e16fc42342d3        audio          science\n",
      "964  73a7ec8f-08e7-41c6-a995-51537ff8772a        video       technology\n",
      "965  f3e9785c-d4e0-4258-a876-4d58ddb38790          GIF         studying\n",
      "966  bea01dba-56f4-4d26-82a1-9b13fb382d89        photo             dogs\n",
      "967  0bfa4a8c-78be-4f6e-888f-490c47d355ed        photo             dogs\n",
      "968  02c9f76b-f9cc-48c5-aedf-73f37c637a71        photo         veganism\n",
      "969  8fe92544-5c15-4f77-bc40-c6e4b7d13674          GIF          animals\n",
      "970  c61b7ef6-d7ab-41fc-aebc-dc16f256957f          GIF          cooking\n",
      "971  8e0f1d3e-b588-44de-a423-8224eb26aa99        audio   healthy eating\n",
      "972  a1249a46-6362-4a73-a1e9-3b5d236cdd73          GIF         studying\n",
      "973  bc06bab7-dbf7-4d7a-81b4-9f76f2f0b87c          GIF          culture\n",
      "974  58b0f92a-76ae-4521-a223-2b117f4f4e70        video             dogs\n",
      "975  9c8f1389-d04e-4a55-a2f5-1612539b70a7        audio       technology\n",
      "976  98d99f96-c8f9-4075-a3c8-f7aceb7e3bd2        photo       technology\n",
      "977  b23a874f-72fa-4abb-9ca5-941850c672bc        photo   healthy eating\n",
      "978  26c02731-b5d8-4ad3-99a2-5e589e107937        video         studying\n",
      "979  998194db-5706-4b01-9565-7c7e7d4ea5f5        audio          cooking\n",
      "980  54e29395-9eba-4945-abee-cad58cbab090        video          science\n",
      "981  cab37e79-0e76-4bd2-b6bd-2fc8bf66ca99        photo          animals\n",
      "982  88e43f42-027e-4256-bab4-2d1c2b6f8f67        photo        education\n",
      "983  a7849ef3-5930-4ba9-9cbe-e215811e713e        photo         studying\n",
      "984  c13e7406-c610-4721-b80d-2b5ad533e90a          GIF          cooking\n",
      "985  a973290c-989a-44d2-afb9-9b4bf16cc17f        video           tennis\n",
      "986  b2a20047-ac6f-4caa-90b1-fe735433e362        photo          culture\n",
      "987  a287c7ad-f5c8-4d87-940b-b7b24e2b42ac        video          fitness\n",
      "988  51199552-05ed-47e5-9c86-6177a406d928        audio          fitness\n",
      "989  b94d8643-4dd8-4f15-a58e-0c9b6691d01a          GIF   healthy eating\n",
      "990  2e32de07-dc79-4cdc-bf1d-bac90ba3fd85        video         studying\n",
      "991  89cb4504-fccd-40f4-945e-410f74ee4735        photo          animals\n",
      "992  67766c84-7d8d-46e2-b2e8-8b0f8dc27193        photo         veganism\n",
      "993  331fad49-0e33-4676-8e2d-51ec52e86625        audio        education\n",
      "994  c54b49c4-b1f2-4641-8595-1cbd19937845        photo          science\n",
      "995  b4cef9ef-627b-41d7-a051-5961b0204ebb        video  public speaking\n",
      "996  7a79f4e4-3b7d-44dc-bdef-bc990740252c          GIF       technology\n",
      "997  435007a5-6261-4d8b-b0a4-55fdc189754b        audio         veganism\n",
      "998  4e4c9690-c013-4ee7-9e66-943d8cbd27b7          GIF          culture\n",
      "999  75d6b589-7fae-4a6d-b0d0-752845150e56        audio       technology\n"
     ]
    }
   ],
   "source": [
    "print(content_df_new.to_string())"
   ]
  },
  {
   "cell_type": "markdown",
   "id": "a6a0404a-b8a6-47c8-9a9a-6c7c3a283859",
   "metadata": {},
   "source": [
    "### Prepare and clean the reaction_types file data"
   ]
  },
  {
   "cell_type": "code",
   "execution_count": 13,
   "id": "9f0da501-76a3-447d-92a3-94dddb9c6a67",
   "metadata": {},
   "outputs": [
    {
     "name": "stdout",
     "output_type": "stream",
     "text": [
      "   Unnamed: 0        Type Sentiment  Score\n",
      "0           0       heart  positive     60\n",
      "1           1        want  positive     70\n",
      "2           2     disgust  negative      0\n",
      "3           3        hate  negative      5\n",
      "4           4  interested  positive     30\n"
     ]
    }
   ],
   "source": [
    "print(react_types_df.head())"
   ]
  },
  {
   "cell_type": "code",
   "execution_count": 14,
   "id": "4d7a0779-6f83-470f-bc18-82a4565529ef",
   "metadata": {},
   "outputs": [
    {
     "name": "stdout",
     "output_type": "stream",
     "text": [
      "<class 'pandas.core.frame.DataFrame'>\n",
      "RangeIndex: 16 entries, 0 to 15\n",
      "Data columns (total 4 columns):\n",
      " #   Column      Non-Null Count  Dtype \n",
      "---  ------      --------------  ----- \n",
      " 0   Unnamed: 0  16 non-null     int64 \n",
      " 1   Type        16 non-null     object\n",
      " 2   Sentiment   16 non-null     object\n",
      " 3   Score       16 non-null     int64 \n",
      "dtypes: int64(2), object(2)\n",
      "memory usage: 644.0+ bytes\n",
      "None\n"
     ]
    }
   ],
   "source": [
    "print(react_types_df.info())"
   ]
  },
  {
   "cell_type": "code",
   "execution_count": 15,
   "id": "695dcfba-6d6e-4b9e-80d6-66ee938bbeae",
   "metadata": {},
   "outputs": [
    {
     "name": "stdout",
     "output_type": "stream",
     "text": [
      "    Unnamed: 0         Type Sentiment  Score\n",
      "0            0        heart  positive     60\n",
      "1            1         want  positive     70\n",
      "2            2      disgust  negative      0\n",
      "3            3         hate  negative      5\n",
      "4            4   interested  positive     30\n",
      "5            5  indifferent   neutral     20\n",
      "6            6         love  positive     65\n",
      "7            7   super love  positive     75\n",
      "8            8      cherish  positive     70\n",
      "9            9        adore  positive     72\n",
      "10          10         like  positive     50\n",
      "11          11      dislike  negative     10\n",
      "12          12    intrigued  positive     45\n",
      "13          13      peeking   neutral     35\n",
      "14          14       scared  negative     15\n",
      "15          15      worried  negative     12\n"
     ]
    }
   ],
   "source": [
    "print(react_types_df.to_string())"
   ]
  },
  {
   "cell_type": "code",
   "execution_count": 16,
   "id": "dd9ed85c-43c8-4927-b247-9e93f5ea6e99",
   "metadata": {},
   "outputs": [],
   "source": [
    "react_types_df_new = react_types_df[['Type','Sentiment','Score']]"
   ]
  },
  {
   "cell_type": "code",
   "execution_count": 17,
   "id": "70d8dbcc-b308-4c7a-b522-eb03e7a2ad97",
   "metadata": {},
   "outputs": [
    {
     "name": "stderr",
     "output_type": "stream",
     "text": [
      "C:\\Users\\GW\\AppData\\Local\\Temp\\ipykernel_8048\\3954664122.py:1: SettingWithCopyWarning: \n",
      "A value is trying to be set on a copy of a slice from a DataFrame\n",
      "\n",
      "See the caveats in the documentation: https://pandas.pydata.org/pandas-docs/stable/user_guide/indexing.html#returning-a-view-versus-a-copy\n",
      "  react_types_df_new.rename(columns = {'Type':'Reaction Type'},inplace = True)\n"
     ]
    }
   ],
   "source": [
    "react_types_df_new.rename(columns = {'Type':'Reaction Type'},inplace = True)"
   ]
  },
  {
   "cell_type": "code",
   "execution_count": 18,
   "id": "110cfee6-c23b-496b-a218-e9ea3c132508",
   "metadata": {},
   "outputs": [
    {
     "name": "stdout",
     "output_type": "stream",
     "text": [
      "   Reaction Type Sentiment  Score\n",
      "0          heart  positive     60\n",
      "1           want  positive     70\n",
      "2        disgust  negative      0\n",
      "3           hate  negative      5\n",
      "4     interested  positive     30\n",
      "5    indifferent   neutral     20\n",
      "6           love  positive     65\n",
      "7     super love  positive     75\n",
      "8        cherish  positive     70\n",
      "9          adore  positive     72\n",
      "10          like  positive     50\n",
      "11       dislike  negative     10\n",
      "12     intrigued  positive     45\n",
      "13       peeking   neutral     35\n",
      "14        scared  negative     15\n",
      "15       worried  negative     12\n"
     ]
    }
   ],
   "source": [
    "print(react_types_df_new.to_string())"
   ]
  },
  {
   "cell_type": "markdown",
   "id": "059d5584-b3ea-47f6-8bea-878e5937b484",
   "metadata": {},
   "source": [
    "### Prepare and clean the reactions file data"
   ]
  },
  {
   "cell_type": "code",
   "execution_count": 19,
   "id": "900118aa-ecef-4ba5-beb1-3e3b48c3d965",
   "metadata": {},
   "outputs": [
    {
     "name": "stdout",
     "output_type": "stream",
     "text": [
      "   Unnamed: 0                            Content ID  \\\n",
      "0           0  97522e57-d9ab-4bd6-97bf-c24d952602d2   \n",
      "1           1  97522e57-d9ab-4bd6-97bf-c24d952602d2   \n",
      "2           2  97522e57-d9ab-4bd6-97bf-c24d952602d2   \n",
      "3           3  97522e57-d9ab-4bd6-97bf-c24d952602d2   \n",
      "4           4  97522e57-d9ab-4bd6-97bf-c24d952602d2   \n",
      "\n",
      "                                User ID     Type             Datetime  \n",
      "0                                   NaN      NaN  2021-04-22 15:17:15  \n",
      "1  5d454588-283d-459d-915d-c48a2cb4c27f  disgust  2020-11-07 09:43:50  \n",
      "2  92b87fa5-f271-43e0-af66-84fac21052e6  dislike  2021-06-17 12:22:51  \n",
      "3  163daa38-8b77-48c9-9af6-37a6c1447ac2   scared  2021-04-18 05:13:58  \n",
      "4  34e8add9-0206-47fd-a501-037b994650a2  disgust  2021-01-06 19:13:01  \n"
     ]
    }
   ],
   "source": [
    "print(reactions_df.head())"
   ]
  },
  {
   "cell_type": "code",
   "execution_count": 20,
   "id": "155713d7-71ac-4a0c-b741-1129dbb7b156",
   "metadata": {},
   "outputs": [
    {
     "name": "stdout",
     "output_type": "stream",
     "text": [
      "<class 'pandas.core.frame.DataFrame'>\n",
      "RangeIndex: 25553 entries, 0 to 25552\n",
      "Data columns (total 5 columns):\n",
      " #   Column      Non-Null Count  Dtype \n",
      "---  ------      --------------  ----- \n",
      " 0   Unnamed: 0  25553 non-null  int64 \n",
      " 1   Content ID  25553 non-null  object\n",
      " 2   User ID     22534 non-null  object\n",
      " 3   Type        24573 non-null  object\n",
      " 4   Datetime    25553 non-null  object\n",
      "dtypes: int64(1), object(4)\n",
      "memory usage: 998.3+ KB\n",
      "None\n"
     ]
    }
   ],
   "source": [
    "print(reactions_df.info())"
   ]
  },
  {
   "cell_type": "code",
   "execution_count": 21,
   "id": "61d45aec-861f-4532-8fb5-4aa676e26bde",
   "metadata": {},
   "outputs": [
    {
     "data": {
      "text/plain": [
       "array([nan, 'disgust', 'dislike', 'scared', 'interested', 'peeking',\n",
       "       'cherish', 'hate', 'love', 'indifferent', 'super love',\n",
       "       'intrigued', 'worried', 'like', 'heart', 'want', 'adore'],\n",
       "      dtype=object)"
      ]
     },
     "execution_count": 21,
     "metadata": {},
     "output_type": "execute_result"
    }
   ],
   "source": [
    "reactions_df['Type'].unique()"
   ]
  },
  {
   "cell_type": "code",
   "execution_count": 22,
   "id": "31201083-d484-4d27-a9f2-4844eacb1043",
   "metadata": {},
   "outputs": [],
   "source": [
    "reactions_df_new = reactions_df[['Content ID', 'Type', 'Datetime']]"
   ]
  },
  {
   "cell_type": "code",
   "execution_count": 23,
   "id": "da27e6b2-a8f0-4898-acca-28f3dc4303b0",
   "metadata": {},
   "outputs": [
    {
     "name": "stderr",
     "output_type": "stream",
     "text": [
      "C:\\Users\\GW\\AppData\\Local\\Temp\\ipykernel_8048\\3838118024.py:1: SettingWithCopyWarning: \n",
      "A value is trying to be set on a copy of a slice from a DataFrame\n",
      "\n",
      "See the caveats in the documentation: https://pandas.pydata.org/pandas-docs/stable/user_guide/indexing.html#returning-a-view-versus-a-copy\n",
      "  reactions_df_new.dropna(inplace = True)\n"
     ]
    }
   ],
   "source": [
    "reactions_df_new.dropna(inplace = True)"
   ]
  },
  {
   "cell_type": "code",
   "execution_count": 24,
   "id": "113e4d9d-68e2-4437-a743-5ec9f6b19b15",
   "metadata": {},
   "outputs": [
    {
     "name": "stdout",
     "output_type": "stream",
     "text": [
      "<class 'pandas.core.frame.DataFrame'>\n",
      "Index: 24573 entries, 1 to 25552\n",
      "Data columns (total 3 columns):\n",
      " #   Column      Non-Null Count  Dtype \n",
      "---  ------      --------------  ----- \n",
      " 0   Content ID  24573 non-null  object\n",
      " 1   Type        24573 non-null  object\n",
      " 2   Datetime    24573 non-null  object\n",
      "dtypes: object(3)\n",
      "memory usage: 767.9+ KB\n"
     ]
    }
   ],
   "source": [
    "reactions_df_new.info()"
   ]
  },
  {
   "cell_type": "code",
   "execution_count": 25,
   "id": "7af6f7d3-9c02-4c49-897b-9e665cb7fe93",
   "metadata": {},
   "outputs": [
    {
     "data": {
      "text/plain": [
       "array(['disgust', 'dislike', 'scared', 'interested', 'peeking', 'cherish',\n",
       "       'hate', 'love', 'indifferent', 'super love', 'intrigued',\n",
       "       'worried', 'like', 'heart', 'want', 'adore'], dtype=object)"
      ]
     },
     "execution_count": 25,
     "metadata": {},
     "output_type": "execute_result"
    }
   ],
   "source": [
    "reactions_df_new['Type'].unique()"
   ]
  },
  {
   "cell_type": "code",
   "execution_count": 26,
   "id": "1ae3996d-cd92-47ad-85ad-3ad79a61f8fa",
   "metadata": {},
   "outputs": [
    {
     "name": "stderr",
     "output_type": "stream",
     "text": [
      "C:\\Users\\GW\\AppData\\Local\\Temp\\ipykernel_8048\\2037117179.py:1: SettingWithCopyWarning: \n",
      "A value is trying to be set on a copy of a slice from a DataFrame\n",
      "\n",
      "See the caveats in the documentation: https://pandas.pydata.org/pandas-docs/stable/user_guide/indexing.html#returning-a-view-versus-a-copy\n",
      "  reactions_df_new.rename (columns = {'Type':'Reaction Type'},inplace = True)\n"
     ]
    }
   ],
   "source": [
    "reactions_df_new.rename (columns = {'Type':'Reaction Type'},inplace = True)"
   ]
  },
  {
   "cell_type": "markdown",
   "id": "24d31895-07a9-439e-a5a9-e0c137925ac7",
   "metadata": {},
   "source": [
    "### Join all the data needed together"
   ]
  },
  {
   "cell_type": "code",
   "execution_count": 27,
   "id": "cc08dc25-643a-4801-99ea-1f224c6baf00",
   "metadata": {},
   "outputs": [],
   "source": [
    "merged_data = pd.merge(reactions_df_new, content_df_new, on = 'Content ID', how = 'inner')"
   ]
  },
  {
   "cell_type": "code",
   "execution_count": 28,
   "id": "356f2cd3-ed06-4b7b-99d5-d3e6fa7301b9",
   "metadata": {},
   "outputs": [
    {
     "name": "stdout",
     "output_type": "stream",
     "text": [
      "                             Content ID Reaction Type             Datetime  \\\n",
      "0  97522e57-d9ab-4bd6-97bf-c24d952602d2       disgust  2020-11-07 09:43:50   \n",
      "1  97522e57-d9ab-4bd6-97bf-c24d952602d2       dislike  2021-06-17 12:22:51   \n",
      "2  97522e57-d9ab-4bd6-97bf-c24d952602d2        scared  2021-04-18 05:13:58   \n",
      "3  97522e57-d9ab-4bd6-97bf-c24d952602d2       disgust  2021-01-06 19:13:01   \n",
      "4  97522e57-d9ab-4bd6-97bf-c24d952602d2    interested  2020-08-23 12:25:58   \n",
      "\n",
      "  Content Type  Category  \n",
      "0        photo  studying  \n",
      "1        photo  studying  \n",
      "2        photo  studying  \n",
      "3        photo  studying  \n",
      "4        photo  studying  \n"
     ]
    }
   ],
   "source": [
    "print(merged_data.head())"
   ]
  },
  {
   "cell_type": "code",
   "execution_count": 29,
   "id": "b7c75aa3-3f0f-4057-bbcc-15c0bad18c19",
   "metadata": {},
   "outputs": [],
   "source": [
    "merged_data = pd.merge(merged_data, react_types_df_new, on = 'Reaction Type', how = 'inner')"
   ]
  },
  {
   "cell_type": "code",
   "execution_count": 30,
   "id": "53ec43f7-cda7-400e-b1a3-0bd0a150f379",
   "metadata": {},
   "outputs": [
    {
     "name": "stdout",
     "output_type": "stream",
     "text": [
      "                             Content ID Reaction Type             Datetime  \\\n",
      "0  97522e57-d9ab-4bd6-97bf-c24d952602d2       disgust  2020-11-07 09:43:50   \n",
      "1  97522e57-d9ab-4bd6-97bf-c24d952602d2       disgust  2021-01-06 19:13:01   \n",
      "2  97522e57-d9ab-4bd6-97bf-c24d952602d2       disgust  2021-04-09 02:46:20   \n",
      "3  9f737e0a-3cdd-4d29-9d24-753f4e3be810       disgust  2021-03-28 21:15:26   \n",
      "4  230c4e4d-70c3-461d-b42c-ec09396efb3f       disgust  2020-08-04 05:40:33   \n",
      "\n",
      "  Content Type        Category Sentiment  Score  \n",
      "0        photo        studying  negative      0  \n",
      "1        photo        studying  negative      0  \n",
      "2        photo        studying  negative      0  \n",
      "3        photo  healthy eating  negative      0  \n",
      "4        photo  healthy eating  negative      0  \n"
     ]
    }
   ],
   "source": [
    "print(merged_data.head())"
   ]
  },
  {
   "cell_type": "code",
   "execution_count": 31,
   "id": "cc7b1286-cfbb-4bbc-b49e-f8af7acc9dc5",
   "metadata": {},
   "outputs": [
    {
     "name": "stdout",
     "output_type": "stream",
     "text": [
      "<class 'pandas.core.frame.DataFrame'>\n",
      "RangeIndex: 24573 entries, 0 to 24572\n",
      "Data columns (total 7 columns):\n",
      " #   Column         Non-Null Count  Dtype \n",
      "---  ------         --------------  ----- \n",
      " 0   Content ID     24573 non-null  object\n",
      " 1   Reaction Type  24573 non-null  object\n",
      " 2   Datetime       24573 non-null  object\n",
      " 3   Content Type   24573 non-null  object\n",
      " 4   Category       24573 non-null  object\n",
      " 5   Sentiment      24573 non-null  object\n",
      " 6   Score          24573 non-null  int64 \n",
      "dtypes: int64(1), object(6)\n",
      "memory usage: 1.3+ MB\n",
      "None\n"
     ]
    }
   ],
   "source": [
    "print(merged_data.info())"
   ]
  },
  {
   "cell_type": "markdown",
   "id": "7bb89b7e-68bc-49ad-9bc2-8e7cc604b60b",
   "metadata": {},
   "source": [
    "### Starting Data Analysis to get insights"
   ]
  },
  {
   "cell_type": "code",
   "execution_count": 32,
   "id": "afcf472d-eb60-4f63-8ce3-90d3974b8b9b",
   "metadata": {},
   "outputs": [
    {
     "name": "stdout",
     "output_type": "stream",
     "text": [
      "                                 Content ID Reaction Type  \\\n",
      "0      97522e57-d9ab-4bd6-97bf-c24d952602d2       disgust   \n",
      "1      97522e57-d9ab-4bd6-97bf-c24d952602d2       disgust   \n",
      "2      97522e57-d9ab-4bd6-97bf-c24d952602d2       disgust   \n",
      "3      9f737e0a-3cdd-4d29-9d24-753f4e3be810       disgust   \n",
      "4      230c4e4d-70c3-461d-b42c-ec09396efb3f       disgust   \n",
      "...                                     ...           ...   \n",
      "24568  435007a5-6261-4d8b-b0a4-55fdc189754b         adore   \n",
      "24569  435007a5-6261-4d8b-b0a4-55fdc189754b         adore   \n",
      "24570  4e4c9690-c013-4ee7-9e66-943d8cbd27b7         adore   \n",
      "24571  4e4c9690-c013-4ee7-9e66-943d8cbd27b7         adore   \n",
      "24572  4e4c9690-c013-4ee7-9e66-943d8cbd27b7         adore   \n",
      "\n",
      "                  Datetime Content Type        Category Sentiment  Score  \n",
      "0      2020-11-07 09:43:50        photo        studying  negative      0  \n",
      "1      2021-01-06 19:13:01        photo        studying  negative      0  \n",
      "2      2021-04-09 02:46:20        photo        studying  negative      0  \n",
      "3      2021-03-28 21:15:26        photo  healthy eating  negative      0  \n",
      "4      2020-08-04 05:40:33        photo  healthy eating  negative      0  \n",
      "...                    ...          ...             ...       ...    ...  \n",
      "24568  2020-10-04 22:26:33        audio        veganism  positive     72  \n",
      "24569  2020-09-18 10:50:50        audio        veganism  positive     72  \n",
      "24570  2020-10-31 03:58:44          GIF         culture  positive     72  \n",
      "24571  2020-06-25 15:12:29          GIF         culture  positive     72  \n",
      "24572  2020-12-17 16:32:57          GIF         culture  positive     72  \n",
      "\n",
      "[24573 rows x 7 columns]\n"
     ]
    }
   ],
   "source": [
    "print(merged_data)"
   ]
  },
  {
   "cell_type": "code",
   "execution_count": 33,
   "id": "43b54cc6-f234-44bb-8cfe-45b390c91828",
   "metadata": {},
   "outputs": [
    {
     "name": "stdout",
     "output_type": "stream",
     "text": [
      "Category\n",
      "animals            1897\n",
      "science            1796\n",
      "healthy eating     1717\n",
      "food               1699\n",
      "technology         1698\n",
      "culture            1676\n",
      "cooking            1664\n",
      "travel             1647\n",
      "soccer             1457\n",
      "education          1433\n",
      "fitness            1395\n",
      "studying           1363\n",
      "dogs               1338\n",
      "tennis             1328\n",
      "veganism           1248\n",
      "public speaking    1217\n",
      "Name: count, dtype: int64\n"
     ]
    }
   ],
   "source": [
    "print(merged_data['Category'].value_counts())"
   ]
  },
  {
   "cell_type": "code",
   "execution_count": 34,
   "id": "9877b9d1-1d6e-471a-85b8-77f2f153f96b",
   "metadata": {},
   "outputs": [],
   "source": [
    "merged_grp = merged_data.groupby(['Category'])"
   ]
  },
  {
   "cell_type": "code",
   "execution_count": 35,
   "id": "fa36d481-7647-4c52-ae77-1a6ec4cca57b",
   "metadata": {},
   "outputs": [],
   "source": [
    "catg_score = merged_grp['Score'].agg(['sum'])"
   ]
  },
  {
   "cell_type": "code",
   "execution_count": 36,
   "id": "c6ecf693-7cff-4036-ba28-52771d7fe95e",
   "metadata": {},
   "outputs": [],
   "source": [
    "catg_score = catg_score.sort_values(by='sum', ascending=False)"
   ]
  },
  {
   "cell_type": "code",
   "execution_count": 37,
   "id": "c7e108ba-7b7f-4084-9c5a-87133cfe8a49",
   "metadata": {},
   "outputs": [
    {
     "name": "stdout",
     "output_type": "stream",
     "text": [
      "                   sum\n",
      "Category              \n",
      "animals          74965\n",
      "science          71168\n",
      "healthy eating   69339\n",
      "technology       68738\n",
      "food             66676\n",
      "culture          66579\n",
      "travel           64880\n",
      "cooking          64756\n",
      "soccer           57783\n",
      "education        57436\n",
      "fitness          55323\n",
      "studying         54269\n",
      "dogs             52511\n",
      "tennis           50339\n",
      "veganism         49619\n",
      "public speaking  49264\n"
     ]
    }
   ],
   "source": [
    "print(catg_score)"
   ]
  },
  {
   "cell_type": "code",
   "execution_count": 38,
   "id": "1cbfd3c6-72a6-4563-8e28-f0ef99287b88",
   "metadata": {},
   "outputs": [],
   "source": [
    "top5 = catg_score.head(5)"
   ]
  },
  {
   "cell_type": "code",
   "execution_count": 39,
   "id": "98ab66e7-6771-4f9f-8399-48e4bd123e86",
   "metadata": {},
   "outputs": [
    {
     "name": "stdout",
     "output_type": "stream",
     "text": [
      "                  sum\n",
      "Category             \n",
      "animals         74965\n",
      "science         71168\n",
      "healthy eating  69339\n",
      "technology      68738\n",
      "food            66676\n"
     ]
    }
   ],
   "source": [
    "print(top5)"
   ]
  },
  {
   "cell_type": "code",
   "execution_count": 40,
   "id": "96e7178b-615a-4192-bb8d-6742dbdec7e3",
   "metadata": {},
   "outputs": [
    {
     "data": {
      "image/png": "[encoded data removed]",
      "text/plain": [
       "<Figure size 640x480 with 1 Axes>"
      ]
     },
     "metadata": {},
     "output_type": "display_data"
    }
   ],
   "source": [
    "plt.bar(top5.index, top5['sum'],width=0.7)\n",
    "plt.title('Top 5 Categories by Score')\n",
    "plt.xlabel('Contents Category')\n",
    "plt.ylabel('Category Score')\n",
    "plt.tight_layout()\n",
    "plt.show()"
   ]
  },
  {
   "cell_type": "code",
   "execution_count": 41,
   "id": "97856921-4a92-4532-b00a-6869348e5cdc",
   "metadata": {},
   "outputs": [
    {
     "data": {
      "image/png": "[encoded data removed]",
      "text/plain": [
       "<Figure size 640x480 with 1 Axes>"
      ]
     },
     "metadata": {},
     "output_type": "display_data"
    }
   ],
   "source": [
    "explode = [0.1, 0, 0, 0, 0]\n",
    "plt.pie(top5['sum'],labels = top5.index, wedgeprops = {'edgecolor':'black'}, explode = explode, shadow = True, autopct = '%1.1f%%')\n",
    "plt.title('Top 5 Categories Percentage')\n",
    "plt.tight_layout()\n",
    "plt.show()"
   ]
  },
  {
   "cell_type": "code",
   "execution_count": 42,
   "id": "7f2458c4-b7ec-4ebb-af8e-0c3496cb15e9",
   "metadata": {},
   "outputs": [],
   "source": [
    "sentiments_df = merged_data['Sentiment'].value_counts()"
   ]
  },
  {
   "cell_type": "code",
   "execution_count": 43,
   "id": "94e18386-6864-4805-8721-7bb9d0d7c285",
   "metadata": {},
   "outputs": [
    {
     "name": "stdout",
     "output_type": "stream",
     "text": [
      "Sentiment\n",
      "positive    13807\n",
      "negative     7695\n",
      "neutral      3071\n",
      "Name: count, dtype: int64\n"
     ]
    }
   ],
   "source": [
    "print(sentiments_df)"
   ]
  },
  {
   "cell_type": "code",
   "execution_count": 44,
   "id": "dec829df-d423-494d-a046-23de02129258",
   "metadata": {},
   "outputs": [
    {
     "data": {
      "image/png": "[encoded data removed]",
      "text/plain": [
       "<Figure size 640x480 with 1 Axes>"
      ]
     },
     "metadata": {},
     "output_type": "display_data"
    }
   ],
   "source": [
    "plt.pie(sentiments_df, labels = sentiments_df.index, wedgeprops = {'edgecolor':'black'}, autopct = '%1.1f%%')\n",
    "plt.title('Content Sentiments Percentage')\n",
    "plt.tight_layout()\n",
    "plt.show()"
   ]
  },
  {
   "cell_type": "code",
   "execution_count": 45,
   "id": "ab0bab33-307b-4ce1-8bdb-3dfa43ce792b",
   "metadata": {},
   "outputs": [
    {
     "name": "stdout",
     "output_type": "stream",
     "text": [
      "Datetime\n",
      "May          2138\n",
      "January      2126\n",
      "August       2114\n",
      "December     2092\n",
      "July         2070\n",
      "October      2056\n",
      "November     2034\n",
      "September    2022\n",
      "June         2021\n",
      "March        2012\n",
      "April        1974\n",
      "February     1914\n",
      "Name: count, dtype: int64\n"
     ]
    }
   ],
   "source": [
    "merged_data['Datetime'] = pd.to_datetime(merged_data['Datetime'])\n",
    "month_counts = merged_data['Datetime'].dt.month_name().value_counts()\n",
    "print(month_counts)"
   ]
  },
  {
   "cell_type": "code",
   "execution_count": 46,
   "id": "147f80e8-b287-4978-8398-11d4b3af59f7",
   "metadata": {},
   "outputs": [
    {
     "name": "stdout",
     "output_type": "stream",
     "text": [
      "Datetime\n",
      "January      2126\n",
      "February     1914\n",
      "March        2012\n",
      "April        1974\n",
      "May          2138\n",
      "June         2021\n",
      "July         2070\n",
      "August       2114\n",
      "September    2022\n",
      "October      2056\n",
      "November     2034\n",
      "December     2092\n",
      "Name: count, dtype: int64\n"
     ]
    }
   ],
   "source": [
    "custom_month_sorted = ['January','February','March','April','May','June','July','August','September','October','November','December']\n",
    "sorted_month_counts = month_counts.reindex(custom_month_sorted)\n",
    "print(sorted_month_counts)"
   ]
  },
  {
   "cell_type": "code",
   "execution_count": 47,
   "id": "ddbc3f1c-f735-4afc-ac29-6f734fe81c6a",
   "metadata": {},
   "outputs": [
    {
     "data": {
      "image/png": "[encoded data removed]",
      "text/plain": [
       "<Figure size 1100x500 with 1 Axes>"
      ]
     },
     "metadata": {},
     "output_type": "display_data"
    }
   ],
   "source": [
    "plt.figure(figsize = (11,5))\n",
    "plt.bar(sorted_month_counts.index,sorted_month_counts.values,width = 0.5)\n",
    "plt.title('Number of Posts by Month')\n",
    "plt.xlabel('Months')\n",
    "plt.ylabel('Number of Posts')\n",
    "plt.tight_layout()\n",
    "plt.show()"
   ]
  },
  {
   "cell_type": "markdown",
   "id": "de67b253-728c-4bd8-9054-2e8734e6c5ee",
   "metadata": {},
   "source": [
    "### Eng. Ahmad Mishaal Alali"
   ]
  }
 ],
 "metadata": {
  "kernelspec": {
   "display_name": "Python 3 (ipykernel)",
   "language": "python",
   "name": "python3"
  },
  "language_info": {
   "codemirror_mode": {
    "name": "ipython",
    "version": 3
   },
   "file_extension": ".py",
   "mimetype": "text/x-python",
   "name": "python",
   "nbconvert_exporter": "python",
   "pygments_lexer": "ipython3",
   "version": "3.11.4"
  }
 },
 "nbformat": 4,
 "nbformat_minor": 5
}
